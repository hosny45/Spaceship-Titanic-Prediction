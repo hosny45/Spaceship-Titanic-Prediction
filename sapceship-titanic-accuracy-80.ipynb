{
 "cells": [
  {
   "cell_type": "markdown",
   "id": "78b0a657",
   "metadata": {
    "papermill": {
     "duration": 0.065966,
     "end_time": "2022-04-16T02:43:19.163918",
     "exception": false,
     "start_time": "2022-04-16T02:43:19.097952",
     "status": "completed"
    },
    "tags": []
   },
   "source": [
    "![](https://imgk.timesnownews.com/story/artist_impression_spaceship.jpg?tr=w-600,h-450,fo-auto)"
   ]
  },
  {
   "cell_type": "markdown",
   "id": "058bdfdd",
   "metadata": {
    "papermill": {
     "duration": 0.065758,
     "end_time": "2022-04-16T02:43:19.294510",
     "exception": false,
     "start_time": "2022-04-16T02:43:19.228752",
     "status": "completed"
    },
    "tags": []
   },
   "source": [
    "## Importing Data and preprocessing"
   ]
  },
  {
   "cell_type": "code",
   "execution_count": 1,
   "id": "26848527",
   "metadata": {
    "execution": {
     "iopub.execute_input": "2022-04-16T02:43:19.429267Z",
     "iopub.status.busy": "2022-04-16T02:43:19.427475Z",
     "iopub.status.idle": "2022-04-16T02:43:25.960373Z",
     "shell.execute_reply": "2022-04-16T02:43:25.959146Z",
     "shell.execute_reply.started": "2022-04-16T02:33:18.130083Z"
    },
    "papermill": {
     "duration": 6.601689,
     "end_time": "2022-04-16T02:43:25.960582",
     "exception": false,
     "start_time": "2022-04-16T02:43:19.358893",
     "status": "completed"
    },
    "tags": []
   },
   "outputs": [],
   "source": [
    "#import necessary libraries \n",
    "import numpy as np\n",
    "import pandas as pd\n",
    "import seaborn as sns \n",
    "import matplotlib.pyplot as plt \n",
    "import plotly as py \n",
    "from sklearn.preprocessing import OneHotEncoder\n",
    "from sklearn import preprocessing\n",
    "from sklearn.model_selection import train_test_split\n",
    "from sklearn.model_selection import GridSearchCV\n",
    "from sklearn.linear_model import LogisticRegression\n",
    "from sklearn.neighbors import KNeighborsClassifier\n",
    "from sklearn.metrics import classification_report, confusion_matrix\n",
    "from sklearn.tree import DecisionTreeClassifier\n",
    "from sklearn.ensemble import RandomForestClassifier\n",
    "from sklearn.naive_bayes import GaussianNB\n",
    "from sklearn.svm import SVC\n",
    "from sklearn.pipeline import make_pipeline\n",
    "from sklearn.preprocessing import StandardScaler\n",
    "from sklearn.linear_model import SGDClassifier\n",
    "from keras.models import Sequential\n",
    "from keras.layers import Dense, Activation, Dropout\n",
    "from keras.callbacks import ModelCheckpoint, EarlyStopping\n",
    "sns.set(style='darkgrid', font_scale=1.4)"
   ]
  },
  {
   "cell_type": "code",
   "execution_count": 2,
   "id": "f383b6d0",
   "metadata": {
    "execution": {
     "iopub.execute_input": "2022-04-16T02:43:26.098056Z",
     "iopub.status.busy": "2022-04-16T02:43:26.097149Z",
     "iopub.status.idle": "2022-04-16T02:43:26.201724Z",
     "shell.execute_reply": "2022-04-16T02:43:26.202237Z",
     "shell.execute_reply.started": "2022-04-16T02:18:58.094390Z"
    },
    "papermill": {
     "duration": 0.175859,
     "end_time": "2022-04-16T02:43:26.202421",
     "exception": false,
     "start_time": "2022-04-16T02:43:26.026562",
     "status": "completed"
    },
    "tags": []
   },
   "outputs": [
    {
     "data": {
      "text/html": [
       "<div>\n",
       "<style scoped>\n",
       "    .dataframe tbody tr th:only-of-type {\n",
       "        vertical-align: middle;\n",
       "    }\n",
       "\n",
       "    .dataframe tbody tr th {\n",
       "        vertical-align: top;\n",
       "    }\n",
       "\n",
       "    .dataframe thead th {\n",
       "        text-align: right;\n",
       "    }\n",
       "</style>\n",
       "<table border=\"1\" class=\"dataframe\">\n",
       "  <thead>\n",
       "    <tr style=\"text-align: right;\">\n",
       "      <th></th>\n",
       "      <th>PassengerId</th>\n",
       "      <th>HomePlanet</th>\n",
       "      <th>CryoSleep</th>\n",
       "      <th>Cabin</th>\n",
       "      <th>Destination</th>\n",
       "      <th>Age</th>\n",
       "      <th>VIP</th>\n",
       "      <th>RoomService</th>\n",
       "      <th>FoodCourt</th>\n",
       "      <th>ShoppingMall</th>\n",
       "      <th>Spa</th>\n",
       "      <th>VRDeck</th>\n",
       "      <th>Name</th>\n",
       "      <th>Transported</th>\n",
       "    </tr>\n",
       "  </thead>\n",
       "  <tbody>\n",
       "    <tr>\n",
       "      <th>0</th>\n",
       "      <td>0001_01</td>\n",
       "      <td>Europa</td>\n",
       "      <td>False</td>\n",
       "      <td>B/0/P</td>\n",
       "      <td>TRAPPIST-1e</td>\n",
       "      <td>39.0</td>\n",
       "      <td>False</td>\n",
       "      <td>0.0</td>\n",
       "      <td>0.0</td>\n",
       "      <td>0.0</td>\n",
       "      <td>0.0</td>\n",
       "      <td>0.0</td>\n",
       "      <td>Maham Ofracculy</td>\n",
       "      <td>False</td>\n",
       "    </tr>\n",
       "    <tr>\n",
       "      <th>1</th>\n",
       "      <td>0002_01</td>\n",
       "      <td>Earth</td>\n",
       "      <td>False</td>\n",
       "      <td>F/0/S</td>\n",
       "      <td>TRAPPIST-1e</td>\n",
       "      <td>24.0</td>\n",
       "      <td>False</td>\n",
       "      <td>109.0</td>\n",
       "      <td>9.0</td>\n",
       "      <td>25.0</td>\n",
       "      <td>549.0</td>\n",
       "      <td>44.0</td>\n",
       "      <td>Juanna Vines</td>\n",
       "      <td>True</td>\n",
       "    </tr>\n",
       "    <tr>\n",
       "      <th>2</th>\n",
       "      <td>0003_01</td>\n",
       "      <td>Europa</td>\n",
       "      <td>False</td>\n",
       "      <td>A/0/S</td>\n",
       "      <td>TRAPPIST-1e</td>\n",
       "      <td>58.0</td>\n",
       "      <td>True</td>\n",
       "      <td>43.0</td>\n",
       "      <td>3576.0</td>\n",
       "      <td>0.0</td>\n",
       "      <td>6715.0</td>\n",
       "      <td>49.0</td>\n",
       "      <td>Altark Susent</td>\n",
       "      <td>False</td>\n",
       "    </tr>\n",
       "    <tr>\n",
       "      <th>3</th>\n",
       "      <td>0003_02</td>\n",
       "      <td>Europa</td>\n",
       "      <td>False</td>\n",
       "      <td>A/0/S</td>\n",
       "      <td>TRAPPIST-1e</td>\n",
       "      <td>33.0</td>\n",
       "      <td>False</td>\n",
       "      <td>0.0</td>\n",
       "      <td>1283.0</td>\n",
       "      <td>371.0</td>\n",
       "      <td>3329.0</td>\n",
       "      <td>193.0</td>\n",
       "      <td>Solam Susent</td>\n",
       "      <td>False</td>\n",
       "    </tr>\n",
       "    <tr>\n",
       "      <th>4</th>\n",
       "      <td>0004_01</td>\n",
       "      <td>Earth</td>\n",
       "      <td>False</td>\n",
       "      <td>F/1/S</td>\n",
       "      <td>TRAPPIST-1e</td>\n",
       "      <td>16.0</td>\n",
       "      <td>False</td>\n",
       "      <td>303.0</td>\n",
       "      <td>70.0</td>\n",
       "      <td>151.0</td>\n",
       "      <td>565.0</td>\n",
       "      <td>2.0</td>\n",
       "      <td>Willy Santantines</td>\n",
       "      <td>True</td>\n",
       "    </tr>\n",
       "  </tbody>\n",
       "</table>\n",
       "</div>"
      ],
      "text/plain": [
       "  PassengerId HomePlanet CryoSleep  Cabin  Destination   Age    VIP  \\\n",
       "0     0001_01     Europa     False  B/0/P  TRAPPIST-1e  39.0  False   \n",
       "1     0002_01      Earth     False  F/0/S  TRAPPIST-1e  24.0  False   \n",
       "2     0003_01     Europa     False  A/0/S  TRAPPIST-1e  58.0   True   \n",
       "3     0003_02     Europa     False  A/0/S  TRAPPIST-1e  33.0  False   \n",
       "4     0004_01      Earth     False  F/1/S  TRAPPIST-1e  16.0  False   \n",
       "\n",
       "   RoomService  FoodCourt  ShoppingMall     Spa  VRDeck               Name  \\\n",
       "0          0.0        0.0           0.0     0.0     0.0    Maham Ofracculy   \n",
       "1        109.0        9.0          25.0   549.0    44.0       Juanna Vines   \n",
       "2         43.0     3576.0           0.0  6715.0    49.0      Altark Susent   \n",
       "3          0.0     1283.0         371.0  3329.0   193.0       Solam Susent   \n",
       "4        303.0       70.0         151.0   565.0     2.0  Willy Santantines   \n",
       "\n",
       "   Transported  \n",
       "0        False  \n",
       "1         True  \n",
       "2        False  \n",
       "3        False  \n",
       "4         True  "
      ]
     },
     "execution_count": 2,
     "metadata": {},
     "output_type": "execute_result"
    }
   ],
   "source": [
    "df_train = pd.read_csv(\"../input/spaceship-titanic/train.csv\")\n",
    "df_test = pd.read_csv(\"../input/spaceship-titanic/test.csv\")\n",
    "df_train.head()"
   ]
  },
  {
   "cell_type": "code",
   "execution_count": 3,
   "id": "65f68f92",
   "metadata": {
    "execution": {
     "iopub.execute_input": "2022-04-16T02:43:26.345881Z",
     "iopub.status.busy": "2022-04-16T02:43:26.344901Z",
     "iopub.status.idle": "2022-04-16T02:43:26.356299Z",
     "shell.execute_reply": "2022-04-16T02:43:26.356779Z",
     "shell.execute_reply.started": "2022-04-16T02:18:58.702059Z"
    },
    "papermill": {
     "duration": 0.088527,
     "end_time": "2022-04-16T02:43:26.356953",
     "exception": false,
     "start_time": "2022-04-16T02:43:26.268426",
     "status": "completed"
    },
    "tags": []
   },
   "outputs": [
    {
     "data": {
      "text/plain": [
       "6561"
      ]
     },
     "execution_count": 3,
     "metadata": {},
     "output_type": "execute_result"
    }
   ],
   "source": [
    "#Check number of different values of Cabin column\n",
    "len(df_train.Cabin.unique())"
   ]
  },
  {
   "cell_type": "code",
   "execution_count": 4,
   "id": "6b204abe",
   "metadata": {
    "execution": {
     "iopub.execute_input": "2022-04-16T02:43:26.492308Z",
     "iopub.status.busy": "2022-04-16T02:43:26.491658Z",
     "iopub.status.idle": "2022-04-16T02:43:26.510293Z",
     "shell.execute_reply": "2022-04-16T02:43:26.510831Z",
     "shell.execute_reply.started": "2022-04-16T02:19:44.604201Z"
    },
    "papermill": {
     "duration": 0.088156,
     "end_time": "2022-04-16T02:43:26.511004",
     "exception": false,
     "start_time": "2022-04-16T02:43:26.422848",
     "status": "completed"
    },
    "tags": []
   },
   "outputs": [
    {
     "data": {
      "text/html": [
       "<div>\n",
       "<style scoped>\n",
       "    .dataframe tbody tr th:only-of-type {\n",
       "        vertical-align: middle;\n",
       "    }\n",
       "\n",
       "    .dataframe tbody tr th {\n",
       "        vertical-align: top;\n",
       "    }\n",
       "\n",
       "    .dataframe thead th {\n",
       "        text-align: right;\n",
       "    }\n",
       "</style>\n",
       "<table border=\"1\" class=\"dataframe\">\n",
       "  <thead>\n",
       "    <tr style=\"text-align: right;\">\n",
       "      <th></th>\n",
       "      <th>PassengerId</th>\n",
       "      <th>HomePlanet</th>\n",
       "      <th>CryoSleep</th>\n",
       "      <th>Cabin</th>\n",
       "      <th>Destination</th>\n",
       "      <th>Age</th>\n",
       "      <th>VIP</th>\n",
       "      <th>RoomService</th>\n",
       "      <th>FoodCourt</th>\n",
       "      <th>ShoppingMall</th>\n",
       "      <th>Spa</th>\n",
       "      <th>VRDeck</th>\n",
       "      <th>Name</th>\n",
       "    </tr>\n",
       "  </thead>\n",
       "  <tbody>\n",
       "    <tr>\n",
       "      <th>0</th>\n",
       "      <td>0013_01</td>\n",
       "      <td>Earth</td>\n",
       "      <td>True</td>\n",
       "      <td>G/3/S</td>\n",
       "      <td>TRAPPIST-1e</td>\n",
       "      <td>27.0</td>\n",
       "      <td>False</td>\n",
       "      <td>0.0</td>\n",
       "      <td>0.0</td>\n",
       "      <td>0.0</td>\n",
       "      <td>0.0</td>\n",
       "      <td>0.0</td>\n",
       "      <td>Nelly Carsoning</td>\n",
       "    </tr>\n",
       "    <tr>\n",
       "      <th>1</th>\n",
       "      <td>0018_01</td>\n",
       "      <td>Earth</td>\n",
       "      <td>False</td>\n",
       "      <td>F/4/S</td>\n",
       "      <td>TRAPPIST-1e</td>\n",
       "      <td>19.0</td>\n",
       "      <td>False</td>\n",
       "      <td>0.0</td>\n",
       "      <td>9.0</td>\n",
       "      <td>0.0</td>\n",
       "      <td>2823.0</td>\n",
       "      <td>0.0</td>\n",
       "      <td>Lerome Peckers</td>\n",
       "    </tr>\n",
       "    <tr>\n",
       "      <th>2</th>\n",
       "      <td>0019_01</td>\n",
       "      <td>Europa</td>\n",
       "      <td>True</td>\n",
       "      <td>C/0/S</td>\n",
       "      <td>55 Cancri e</td>\n",
       "      <td>31.0</td>\n",
       "      <td>False</td>\n",
       "      <td>0.0</td>\n",
       "      <td>0.0</td>\n",
       "      <td>0.0</td>\n",
       "      <td>0.0</td>\n",
       "      <td>0.0</td>\n",
       "      <td>Sabih Unhearfus</td>\n",
       "    </tr>\n",
       "    <tr>\n",
       "      <th>3</th>\n",
       "      <td>0021_01</td>\n",
       "      <td>Europa</td>\n",
       "      <td>False</td>\n",
       "      <td>C/1/S</td>\n",
       "      <td>TRAPPIST-1e</td>\n",
       "      <td>38.0</td>\n",
       "      <td>False</td>\n",
       "      <td>0.0</td>\n",
       "      <td>6652.0</td>\n",
       "      <td>0.0</td>\n",
       "      <td>181.0</td>\n",
       "      <td>585.0</td>\n",
       "      <td>Meratz Caltilter</td>\n",
       "    </tr>\n",
       "    <tr>\n",
       "      <th>4</th>\n",
       "      <td>0023_01</td>\n",
       "      <td>Earth</td>\n",
       "      <td>False</td>\n",
       "      <td>F/5/S</td>\n",
       "      <td>TRAPPIST-1e</td>\n",
       "      <td>20.0</td>\n",
       "      <td>False</td>\n",
       "      <td>10.0</td>\n",
       "      <td>0.0</td>\n",
       "      <td>635.0</td>\n",
       "      <td>0.0</td>\n",
       "      <td>0.0</td>\n",
       "      <td>Brence Harperez</td>\n",
       "    </tr>\n",
       "  </tbody>\n",
       "</table>\n",
       "</div>"
      ],
      "text/plain": [
       "  PassengerId HomePlanet CryoSleep  Cabin  Destination   Age    VIP  \\\n",
       "0     0013_01      Earth      True  G/3/S  TRAPPIST-1e  27.0  False   \n",
       "1     0018_01      Earth     False  F/4/S  TRAPPIST-1e  19.0  False   \n",
       "2     0019_01     Europa      True  C/0/S  55 Cancri e  31.0  False   \n",
       "3     0021_01     Europa     False  C/1/S  TRAPPIST-1e  38.0  False   \n",
       "4     0023_01      Earth     False  F/5/S  TRAPPIST-1e  20.0  False   \n",
       "\n",
       "   RoomService  FoodCourt  ShoppingMall     Spa  VRDeck              Name  \n",
       "0          0.0        0.0           0.0     0.0     0.0   Nelly Carsoning  \n",
       "1          0.0        9.0           0.0  2823.0     0.0    Lerome Peckers  \n",
       "2          0.0        0.0           0.0     0.0     0.0   Sabih Unhearfus  \n",
       "3          0.0     6652.0           0.0   181.0   585.0  Meratz Caltilter  \n",
       "4         10.0        0.0         635.0     0.0     0.0   Brence Harperez  "
      ]
     },
     "execution_count": 4,
     "metadata": {},
     "output_type": "execute_result"
    }
   ],
   "source": [
    "#Check test data\n",
    "df_test.head()"
   ]
  },
  {
   "cell_type": "code",
   "execution_count": 5,
   "id": "5d9a3e44",
   "metadata": {
    "execution": {
     "iopub.execute_input": "2022-04-16T02:43:26.646320Z",
     "iopub.status.busy": "2022-04-16T02:43:26.645710Z",
     "iopub.status.idle": "2022-04-16T02:43:26.672722Z",
     "shell.execute_reply": "2022-04-16T02:43:26.673194Z",
     "shell.execute_reply.started": "2022-04-16T02:19:44.769887Z"
    },
    "papermill": {
     "duration": 0.096372,
     "end_time": "2022-04-16T02:43:26.673403",
     "exception": false,
     "start_time": "2022-04-16T02:43:26.577031",
     "status": "completed"
    },
    "tags": []
   },
   "outputs": [
    {
     "name": "stdout",
     "output_type": "stream",
     "text": [
      "<class 'pandas.core.frame.DataFrame'>\n",
      "RangeIndex: 8693 entries, 0 to 8692\n",
      "Data columns (total 14 columns):\n",
      " #   Column        Non-Null Count  Dtype  \n",
      "---  ------        --------------  -----  \n",
      " 0   PassengerId   8693 non-null   object \n",
      " 1   HomePlanet    8492 non-null   object \n",
      " 2   CryoSleep     8476 non-null   object \n",
      " 3   Cabin         8494 non-null   object \n",
      " 4   Destination   8511 non-null   object \n",
      " 5   Age           8514 non-null   float64\n",
      " 6   VIP           8490 non-null   object \n",
      " 7   RoomService   8512 non-null   float64\n",
      " 8   FoodCourt     8510 non-null   float64\n",
      " 9   ShoppingMall  8485 non-null   float64\n",
      " 10  Spa           8510 non-null   float64\n",
      " 11  VRDeck        8505 non-null   float64\n",
      " 12  Name          8493 non-null   object \n",
      " 13  Transported   8693 non-null   bool   \n",
      "dtypes: bool(1), float64(6), object(7)\n",
      "memory usage: 891.5+ KB\n"
     ]
    }
   ],
   "source": [
    "#Check train data\n",
    "df_train.info()"
   ]
  },
  {
   "cell_type": "code",
   "execution_count": 6,
   "id": "43ae7e73",
   "metadata": {
    "execution": {
     "iopub.execute_input": "2022-04-16T02:43:26.816464Z",
     "iopub.status.busy": "2022-04-16T02:43:26.815442Z",
     "iopub.status.idle": "2022-04-16T02:43:26.826443Z",
     "shell.execute_reply": "2022-04-16T02:43:26.827001Z",
     "shell.execute_reply.started": "2022-04-16T02:19:45.054876Z"
    },
    "papermill": {
     "duration": 0.08627,
     "end_time": "2022-04-16T02:43:26.827189",
     "exception": false,
     "start_time": "2022-04-16T02:43:26.740919",
     "status": "completed"
    },
    "tags": []
   },
   "outputs": [
    {
     "name": "stdout",
     "output_type": "stream",
     "text": [
      "<class 'pandas.core.frame.DataFrame'>\n",
      "RangeIndex: 4277 entries, 0 to 4276\n",
      "Data columns (total 13 columns):\n",
      " #   Column        Non-Null Count  Dtype  \n",
      "---  ------        --------------  -----  \n",
      " 0   PassengerId   4277 non-null   object \n",
      " 1   HomePlanet    4190 non-null   object \n",
      " 2   CryoSleep     4184 non-null   object \n",
      " 3   Cabin         4177 non-null   object \n",
      " 4   Destination   4185 non-null   object \n",
      " 5   Age           4186 non-null   float64\n",
      " 6   VIP           4184 non-null   object \n",
      " 7   RoomService   4195 non-null   float64\n",
      " 8   FoodCourt     4171 non-null   float64\n",
      " 9   ShoppingMall  4179 non-null   float64\n",
      " 10  Spa           4176 non-null   float64\n",
      " 11  VRDeck        4197 non-null   float64\n",
      " 12  Name          4183 non-null   object \n",
      "dtypes: float64(6), object(7)\n",
      "memory usage: 434.5+ KB\n"
     ]
    }
   ],
   "source": [
    "#Check test data\n",
    "df_test.info()"
   ]
  },
  {
   "cell_type": "code",
   "execution_count": 7,
   "id": "7246bc5b",
   "metadata": {
    "execution": {
     "iopub.execute_input": "2022-04-16T02:43:26.967461Z",
     "iopub.status.busy": "2022-04-16T02:43:26.966768Z",
     "iopub.status.idle": "2022-04-16T02:43:27.165778Z",
     "shell.execute_reply": "2022-04-16T02:43:27.165101Z",
     "shell.execute_reply.started": "2022-04-16T02:19:45.152831Z"
    },
    "papermill": {
     "duration": 0.271316,
     "end_time": "2022-04-16T02:43:27.165925",
     "exception": false,
     "start_time": "2022-04-16T02:43:26.894609",
     "status": "completed"
    },
    "tags": []
   },
   "outputs": [
    {
     "name": "stderr",
     "output_type": "stream",
     "text": [
      "/opt/conda/lib/python3.7/site-packages/seaborn/_decorators.py:43: FutureWarning: Pass the following variable as a keyword arg: x. From version 0.12, the only valid positional argument will be `data`, and passing other arguments without an explicit keyword will result in an error or misinterpretation.\n",
      "  FutureWarning\n"
     ]
    },
    {
     "data": {
      "image/png": "[encoded data removed]",
      "text/plain": [
       "<Figure size 432x288 with 1 Axes>"
      ]
     },
     "metadata": {},
     "output_type": "display_data"
    }
   ],
   "source": [
    "#Check labeled values distrbuition in train data\n",
    "sns.countplot(df_train['Transported'])\n",
    "plt.show()"
   ]
  },
  {
   "cell_type": "code",
   "execution_count": 8,
   "id": "8fc93bf6",
   "metadata": {
    "execution": {
     "iopub.execute_input": "2022-04-16T02:43:27.311105Z",
     "iopub.status.busy": "2022-04-16T02:43:27.306632Z",
     "iopub.status.idle": "2022-04-16T02:43:27.475361Z",
     "shell.execute_reply": "2022-04-16T02:43:27.476263Z",
     "shell.execute_reply.started": "2022-04-16T02:19:45.343048Z"
    },
    "papermill": {
     "duration": 0.241373,
     "end_time": "2022-04-16T02:43:27.476546",
     "exception": false,
     "start_time": "2022-04-16T02:43:27.235173",
     "status": "completed"
    },
    "tags": []
   },
   "outputs": [
    {
     "data": {
      "text/plain": [
       "Text(0.5, 1.0, 'Transported')"
      ]
     },
     "execution_count": 8,
     "metadata": {},
     "output_type": "execute_result"
    },
    {
     "data": {
      "image/png": "[encoded data removed]",
      "text/plain": [
       "<Figure size 432x432 with 1 Axes>"
      ]
     },
     "metadata": {},
     "output_type": "display_data"
    }
   ],
   "source": [
    "#Plot distrbution of survivors\n",
    "plt.figure(figsize=(6,6))\n",
    "\n",
    "# Pie plot\n",
    "df_train['Transported'].value_counts().plot.pie(explode=[0.1,0.1], autopct='%1.1f%%', shadow=True, textprops={'fontsize':16}).set_title(\"Transported\")"
   ]
  },
  {
   "cell_type": "markdown",
   "id": "2ec18e86",
   "metadata": {
    "papermill": {
     "duration": 0.069682,
     "end_time": "2022-04-16T02:43:27.646652",
     "exception": false,
     "start_time": "2022-04-16T02:43:27.576970",
     "status": "completed"
    },
    "tags": []
   },
   "source": [
    "#### We notice that our labeled is almost equally distrbuted "
   ]
  },
  {
   "cell_type": "code",
   "execution_count": 9,
   "id": "658d8547",
   "metadata": {
    "execution": {
     "iopub.execute_input": "2022-04-16T02:43:27.792268Z",
     "iopub.status.busy": "2022-04-16T02:43:27.791615Z",
     "iopub.status.idle": "2022-04-16T02:43:28.603641Z",
     "shell.execute_reply": "2022-04-16T02:43:28.602620Z",
     "shell.execute_reply.started": "2022-04-16T02:19:45.742707Z"
    },
    "papermill": {
     "duration": 0.885836,
     "end_time": "2022-04-16T02:43:28.603801",
     "exception": false,
     "start_time": "2022-04-16T02:43:27.717965",
     "status": "completed"
    },
    "tags": []
   },
   "outputs": [
    {
     "data": {
      "text/plain": [
       "Text(0.5, 0, 'Age vs Survivors')"
      ]
     },
     "execution_count": 9,
     "metadata": {},
     "output_type": "execute_result"
    },
    {
     "data": {
      "image/png": "[encoded data removed]",
      "text/plain": [
       "<Figure size 720x288 with 1 Axes>"
      ]
     },
     "metadata": {},
     "output_type": "display_data"
    }
   ],
   "source": [
    "#Age and Survrivors\n",
    "plt.figure(figsize=(10,4))\n",
    "\n",
    "# Histogram\n",
    "sns.histplot(data=df_train, x='Age', hue='Transported', binwidth=1, kde=True)\n",
    "\n",
    "# Aesthetics\n",
    "plt.title('AGE Distrbution')\n",
    "plt.xlabel('Age vs Survivors')"
   ]
  },
  {
   "cell_type": "markdown",
   "id": "d1044747",
   "metadata": {
    "papermill": {
     "duration": 0.073407,
     "end_time": "2022-04-16T02:43:28.750083",
     "exception": false,
     "start_time": "2022-04-16T02:43:28.676676",
     "status": "completed"
    },
    "tags": []
   },
   "source": [
    "#### For people between (1, 20) years old a higher chance for being transported appears specially for very young childern (1-5) years, and the peak of people suffers from risk of not transported is from (20,25) years old"
   ]
  },
  {
   "cell_type": "code",
   "execution_count": 10,
   "id": "e781e893",
   "metadata": {
    "execution": {
     "iopub.execute_input": "2022-04-16T02:43:28.902914Z",
     "iopub.status.busy": "2022-04-16T02:43:28.902008Z",
     "iopub.status.idle": "2022-04-16T02:43:29.164752Z",
     "shell.execute_reply": "2022-04-16T02:43:29.163836Z",
     "shell.execute_reply.started": "2022-04-16T02:19:46.573271Z"
    },
    "papermill": {
     "duration": 0.342277,
     "end_time": "2022-04-16T02:43:29.164942",
     "exception": false,
     "start_time": "2022-04-16T02:43:28.822665",
     "status": "completed"
    },
    "tags": []
   },
   "outputs": [
    {
     "data": {
      "text/plain": [
       "<AxesSubplot:xlabel='HomePlanet', ylabel='count'>"
      ]
     },
     "execution_count": 10,
     "metadata": {},
     "output_type": "execute_result"
    },
    {
     "data": {
      "image/png": "[encoded data removed]",
      "text/plain": [
       "<Figure size 720x288 with 1 Axes>"
      ]
     },
     "metadata": {},
     "output_type": "display_data"
    }
   ],
   "source": [
    "#HomePlanet and Survivors \n",
    "plt.figure(figsize=(10,4))\n",
    "sns.countplot(data=df_train, x='HomePlanet', hue='Transported')"
   ]
  },
  {
   "cell_type": "markdown",
   "id": "12559b46",
   "metadata": {
    "papermill": {
     "duration": 0.073097,
     "end_time": "2022-04-16T02:43:29.323017",
     "exception": false,
     "start_time": "2022-04-16T02:43:29.249920",
     "status": "completed"
    },
    "tags": []
   },
   "source": [
    "#### We found that people from Earth have a lower chance to be transported, on the other side people from Europa have a higher chance to be transported, people from Mars have equally chance!"
   ]
  },
  {
   "cell_type": "code",
   "execution_count": 11,
   "id": "41c0972e",
   "metadata": {
    "execution": {
     "iopub.execute_input": "2022-04-16T02:43:29.473660Z",
     "iopub.status.busy": "2022-04-16T02:43:29.472994Z",
     "iopub.status.idle": "2022-04-16T02:43:29.717938Z",
     "shell.execute_reply": "2022-04-16T02:43:29.718482Z",
     "shell.execute_reply.started": "2022-04-16T02:19:46.847447Z"
    },
    "papermill": {
     "duration": 0.321929,
     "end_time": "2022-04-16T02:43:29.718671",
     "exception": false,
     "start_time": "2022-04-16T02:43:29.396742",
     "status": "completed"
    },
    "tags": []
   },
   "outputs": [
    {
     "data": {
      "text/plain": [
       "<AxesSubplot:xlabel='CryoSleep', ylabel='count'>"
      ]
     },
     "execution_count": 11,
     "metadata": {},
     "output_type": "execute_result"
    },
    {
     "data": {
      "image/png": "[encoded data removed]",
      "text/plain": [
       "<Figure size 720x288 with 1 Axes>"
      ]
     },
     "metadata": {},
     "output_type": "display_data"
    }
   ],
   "source": [
    "#CryoSleep and Survivors \n",
    "plt.figure(figsize=(10,4))\n",
    "sns.countplot(data=df_train, x='CryoSleep', hue='Transported')"
   ]
  },
  {
   "cell_type": "markdown",
   "id": "645e517b",
   "metadata": {
    "papermill": {
     "duration": 0.075477,
     "end_time": "2022-04-16T02:43:29.869880",
     "exception": false,
     "start_time": "2022-04-16T02:43:29.794403",
     "status": "completed"
    },
    "tags": []
   },
   "source": [
    "#### People who choose to be confined to their Cryo have a higher chance to be transported than the people who choose to not confined"
   ]
  },
  {
   "cell_type": "code",
   "execution_count": 12,
   "id": "46c00c2c",
   "metadata": {
    "execution": {
     "iopub.execute_input": "2022-04-16T02:43:30.037200Z",
     "iopub.status.busy": "2022-04-16T02:43:30.036528Z",
     "iopub.status.idle": "2022-04-16T02:43:30.283997Z",
     "shell.execute_reply": "2022-04-16T02:43:30.284508Z",
     "shell.execute_reply.started": "2022-04-16T02:19:47.114250Z"
    },
    "papermill": {
     "duration": 0.339172,
     "end_time": "2022-04-16T02:43:30.284692",
     "exception": false,
     "start_time": "2022-04-16T02:43:29.945520",
     "status": "completed"
    },
    "tags": []
   },
   "outputs": [
    {
     "data": {
      "text/plain": [
       "<AxesSubplot:xlabel='Destination', ylabel='count'>"
      ]
     },
     "execution_count": 12,
     "metadata": {},
     "output_type": "execute_result"
    },
    {
     "data": {
      "image/png": "[encoded data removed]",
      "text/plain": [
       "<Figure size 720x288 with 1 Axes>"
      ]
     },
     "metadata": {},
     "output_type": "display_data"
    }
   ],
   "source": [
    "#Destination and Survivors \n",
    "plt.figure(figsize=(10,4))\n",
    "sns.countplot(data=df_train, x='Destination', hue='Transported')"
   ]
  },
  {
   "cell_type": "markdown",
   "id": "370afd6d",
   "metadata": {
    "papermill": {
     "duration": 0.076297,
     "end_time": "2022-04-16T02:43:30.437694",
     "exception": false,
     "start_time": "2022-04-16T02:43:30.361397",
     "status": "completed"
    },
    "tags": []
   },
   "source": [
    "#### People who was heading to \"TRAPPIST-le\" have a lower chance to be trasnported, while people heading to \"PSO J318.5-22\" has equal chance, Finally people heading to \"55 Cancri e\" have a lower chance to be transported"
   ]
  },
  {
   "cell_type": "code",
   "execution_count": 13,
   "id": "65af332e",
   "metadata": {
    "execution": {
     "iopub.execute_input": "2022-04-16T02:43:30.598117Z",
     "iopub.status.busy": "2022-04-16T02:43:30.597447Z",
     "iopub.status.idle": "2022-04-16T02:43:30.843124Z",
     "shell.execute_reply": "2022-04-16T02:43:30.842607Z",
     "shell.execute_reply.started": "2022-04-16T02:19:47.394208Z"
    },
    "papermill": {
     "duration": 0.328888,
     "end_time": "2022-04-16T02:43:30.843279",
     "exception": false,
     "start_time": "2022-04-16T02:43:30.514391",
     "status": "completed"
    },
    "tags": []
   },
   "outputs": [
    {
     "data": {
      "text/plain": [
       "<AxesSubplot:xlabel='VIP', ylabel='count'>"
      ]
     },
     "execution_count": 13,
     "metadata": {},
     "output_type": "execute_result"
    },
    {
     "data": {
      "image/png": "[encoded data removed]",
      "text/plain": [
       "<Figure size 720x288 with 1 Axes>"
      ]
     },
     "metadata": {},
     "output_type": "display_data"
    }
   ],
   "source": [
    "#VIP and Survivors \n",
    "plt.figure(figsize=(10,4))\n",
    "sns.countplot(data=df_train, x='VIP', hue='Transported')"
   ]
  },
  {
   "cell_type": "markdown",
   "id": "23628daa",
   "metadata": {
    "papermill": {
     "duration": 0.079116,
     "end_time": "2022-04-16T02:43:31.000895",
     "exception": false,
     "start_time": "2022-04-16T02:43:30.921779",
     "status": "completed"
    },
    "tags": []
   },
   "source": [
    "#### We notice that VIP service make no deference for being transported or not!"
   ]
  },
  {
   "cell_type": "markdown",
   "id": "b6314903",
   "metadata": {
    "papermill": {
     "duration": 0.080366,
     "end_time": "2022-04-16T02:43:31.160149",
     "exception": false,
     "start_time": "2022-04-16T02:43:31.079783",
     "status": "completed"
    },
    "tags": []
   },
   "source": [
    "## Preprocessing"
   ]
  },
  {
   "cell_type": "code",
   "execution_count": 14,
   "id": "4b0304fd",
   "metadata": {
    "execution": {
     "iopub.execute_input": "2022-04-16T02:43:31.321671Z",
     "iopub.status.busy": "2022-04-16T02:43:31.320841Z",
     "iopub.status.idle": "2022-04-16T02:43:31.323030Z",
     "shell.execute_reply": "2022-04-16T02:43:31.323611Z",
     "shell.execute_reply.started": "2022-04-16T02:19:47.999572Z"
    },
    "papermill": {
     "duration": 0.084777,
     "end_time": "2022-04-16T02:43:31.323783",
     "exception": false,
     "start_time": "2022-04-16T02:43:31.239006",
     "status": "completed"
    },
    "tags": []
   },
   "outputs": [],
   "source": [
    "#Save ID column for test data as we will need it in submission step\n",
    "df_test_id = df_test['PassengerId']"
   ]
  },
  {
   "cell_type": "code",
   "execution_count": 15,
   "id": "34ff445b",
   "metadata": {
    "execution": {
     "iopub.execute_input": "2022-04-16T02:43:31.495266Z",
     "iopub.status.busy": "2022-04-16T02:43:31.494592Z",
     "iopub.status.idle": "2022-04-16T02:43:35.724289Z",
     "shell.execute_reply": "2022-04-16T02:43:35.723670Z",
     "shell.execute_reply.started": "2022-04-16T02:19:48.053685Z"
    },
    "papermill": {
     "duration": 4.321648,
     "end_time": "2022-04-16T02:43:35.724455",
     "exception": false,
     "start_time": "2022-04-16T02:43:31.402807",
     "status": "completed"
    },
    "tags": []
   },
   "outputs": [
    {
     "name": "stderr",
     "output_type": "stream",
     "text": [
      "/opt/conda/lib/python3.7/site-packages/ipykernel_launcher.py:6: SettingWithCopyWarning: \n",
      "A value is trying to be set on a copy of a slice from a DataFrame\n",
      "\n",
      "See the caveats in the documentation: https://pandas.pydata.org/pandas-docs/stable/user_guide/indexing.html#returning-a-view-versus-a-copy\n",
      "  \n",
      "/opt/conda/lib/python3.7/site-packages/ipykernel_launcher.py:8: SettingWithCopyWarning: \n",
      "A value is trying to be set on a copy of a slice from a DataFrame\n",
      "\n",
      "See the caveats in the documentation: https://pandas.pydata.org/pandas-docs/stable/user_guide/indexing.html#returning-a-view-versus-a-copy\n",
      "  \n"
     ]
    }
   ],
   "source": [
    "#As mentioned earlier Passenger ID contains GroupID_NumberInsideTheGroup, we will add a new column named Group then drop ID columns\n",
    "df_train['Group'] = ''\n",
    "df_test['Group'] = ''\n",
    "\n",
    "for i in range(0, len(df_train)):\n",
    "    df_train['Group'][i] = df_train['PassengerId'][i].split('_')[0]\n",
    "for i in range(0, len(df_test)):\n",
    "    df_test['Group'][i] = df_test['PassengerId'][i].split('_')[0]\n",
    "    \n",
    "df_train.drop('PassengerId', axis =1, inplace = True)\n",
    "df_test.drop('PassengerId', axis = 1, inplace = True)"
   ]
  },
  {
   "cell_type": "code",
   "execution_count": 16,
   "id": "ba9e5e8b",
   "metadata": {
    "execution": {
     "iopub.execute_input": "2022-04-16T02:43:35.904345Z",
     "iopub.status.busy": "2022-04-16T02:43:35.896354Z",
     "iopub.status.idle": "2022-04-16T02:43:35.908213Z",
     "shell.execute_reply": "2022-04-16T02:43:35.907633Z",
     "shell.execute_reply.started": "2022-04-16T02:19:52.331383Z"
    },
    "papermill": {
     "duration": 0.103705,
     "end_time": "2022-04-16T02:43:35.908377",
     "exception": false,
     "start_time": "2022-04-16T02:43:35.804672",
     "status": "completed"
    },
    "tags": []
   },
   "outputs": [
    {
     "name": "stdout",
     "output_type": "stream",
     "text": [
      "<class 'pandas.core.frame.DataFrame'>\n",
      "RangeIndex: 8693 entries, 0 to 8692\n",
      "Data columns (total 14 columns):\n",
      " #   Column        Non-Null Count  Dtype  \n",
      "---  ------        --------------  -----  \n",
      " 0   HomePlanet    8492 non-null   object \n",
      " 1   CryoSleep     8476 non-null   object \n",
      " 2   Cabin         8494 non-null   object \n",
      " 3   Destination   8511 non-null   object \n",
      " 4   Age           8514 non-null   float64\n",
      " 5   VIP           8490 non-null   object \n",
      " 6   RoomService   8512 non-null   float64\n",
      " 7   FoodCourt     8510 non-null   float64\n",
      " 8   ShoppingMall  8485 non-null   float64\n",
      " 9   Spa           8510 non-null   float64\n",
      " 10  VRDeck        8505 non-null   float64\n",
      " 11  Name          8493 non-null   object \n",
      " 12  Transported   8693 non-null   bool   \n",
      " 13  Group         8693 non-null   object \n",
      "dtypes: bool(1), float64(6), object(7)\n",
      "memory usage: 891.5+ KB\n"
     ]
    }
   ],
   "source": [
    "#Check data type\n",
    "df_train.info()"
   ]
  },
  {
   "cell_type": "code",
   "execution_count": 17,
   "id": "da40d50e",
   "metadata": {
    "execution": {
     "iopub.execute_input": "2022-04-16T02:43:36.077397Z",
     "iopub.status.busy": "2022-04-16T02:43:36.071803Z",
     "iopub.status.idle": "2022-04-16T02:43:36.080047Z",
     "shell.execute_reply": "2022-04-16T02:43:36.079528Z",
     "shell.execute_reply.started": "2022-04-16T02:19:52.356710Z"
    },
    "papermill": {
     "duration": 0.09189,
     "end_time": "2022-04-16T02:43:36.080191",
     "exception": false,
     "start_time": "2022-04-16T02:43:35.988301",
     "status": "completed"
    },
    "tags": []
   },
   "outputs": [],
   "source": [
    "##Replacing Null with N/0/N\n",
    "df_train['Cabin'].fillna('N/0/N', inplace = True)\n",
    "df_test['Cabin'].fillna('N/0/N', inplace = True)"
   ]
  },
  {
   "cell_type": "code",
   "execution_count": 18,
   "id": "706000c5",
   "metadata": {
    "execution": {
     "iopub.execute_input": "2022-04-16T02:43:36.247912Z",
     "iopub.status.busy": "2022-04-16T02:43:36.246927Z",
     "iopub.status.idle": "2022-04-16T02:43:44.121586Z",
     "shell.execute_reply": "2022-04-16T02:43:44.122076Z",
     "shell.execute_reply.started": "2022-04-16T02:19:52.368021Z"
    },
    "papermill": {
     "duration": 7.957651,
     "end_time": "2022-04-16T02:43:44.122260",
     "exception": false,
     "start_time": "2022-04-16T02:43:36.164609",
     "status": "completed"
    },
    "tags": []
   },
   "outputs": [
    {
     "name": "stderr",
     "output_type": "stream",
     "text": [
      "/opt/conda/lib/python3.7/site-packages/ipykernel_launcher.py:10: SettingWithCopyWarning: \n",
      "A value is trying to be set on a copy of a slice from a DataFrame\n",
      "\n",
      "See the caveats in the documentation: https://pandas.pydata.org/pandas-docs/stable/user_guide/indexing.html#returning-a-view-versus-a-copy\n",
      "  # Remove the CWD from sys.path while we load stuff.\n",
      "/opt/conda/lib/python3.7/site-packages/ipykernel_launcher.py:11: SettingWithCopyWarning: \n",
      "A value is trying to be set on a copy of a slice from a DataFrame\n",
      "\n",
      "See the caveats in the documentation: https://pandas.pydata.org/pandas-docs/stable/user_guide/indexing.html#returning-a-view-versus-a-copy\n",
      "  # This is added back by InteractiveShellApp.init_path()\n",
      "/opt/conda/lib/python3.7/site-packages/ipykernel_launcher.py:13: SettingWithCopyWarning: \n",
      "A value is trying to be set on a copy of a slice from a DataFrame\n",
      "\n",
      "See the caveats in the documentation: https://pandas.pydata.org/pandas-docs/stable/user_guide/indexing.html#returning-a-view-versus-a-copy\n",
      "  del sys.path[0]\n",
      "/opt/conda/lib/python3.7/site-packages/ipykernel_launcher.py:14: SettingWithCopyWarning: \n",
      "A value is trying to be set on a copy of a slice from a DataFrame\n",
      "\n",
      "See the caveats in the documentation: https://pandas.pydata.org/pandas-docs/stable/user_guide/indexing.html#returning-a-view-versus-a-copy\n",
      "  \n"
     ]
    }
   ],
   "source": [
    "#As mentioned earlier Passenger ID contains GroupID_NumberInsideTheGroup, we will add a new column named Deck and side then drop Cabin columns\n",
    "df_train['Deck'] = ''\n",
    "df_test['Deck'] = ''\n",
    "df_train['Side'] = ''\n",
    "df_test['Side'] = ''\n",
    "\n",
    "\n",
    "\n",
    "for i in range(0, len(df_train)):\n",
    "    df_train['Deck'][i] = df_train['Cabin'][i].split('/')[0]\n",
    "    df_train['Side'][i] = df_train['Cabin'][i].split('/')[2]\n",
    "for i in range(0, len(df_test)):\n",
    "    df_test['Deck'][i] = df_test['Cabin'][i].split('/')[0]\n",
    "    df_test['Side'][i] = df_test['Cabin'][i].split('/')[2]\n",
    "\n",
    "df_train.drop('Cabin', axis = 1, inplace = True)\n",
    "df_test.drop('Cabin', axis = 1, inplace = True)"
   ]
  },
  {
   "cell_type": "markdown",
   "id": "a37bae17",
   "metadata": {
    "papermill": {
     "duration": 0.079846,
     "end_time": "2022-04-16T02:43:44.282141",
     "exception": false,
     "start_time": "2022-04-16T02:43:44.202295",
     "status": "completed"
    },
    "tags": []
   },
   "source": [
    "### Dealing with missing Values"
   ]
  },
  {
   "cell_type": "code",
   "execution_count": 19,
   "id": "d8e4d75d",
   "metadata": {
    "execution": {
     "iopub.execute_input": "2022-04-16T02:43:44.446896Z",
     "iopub.status.busy": "2022-04-16T02:43:44.446174Z",
     "iopub.status.idle": "2022-04-16T02:43:44.464384Z",
     "shell.execute_reply": "2022-04-16T02:43:44.465136Z",
     "shell.execute_reply.started": "2022-04-16T02:20:00.577264Z"
    },
    "papermill": {
     "duration": 0.103539,
     "end_time": "2022-04-16T02:43:44.465380",
     "exception": false,
     "start_time": "2022-04-16T02:43:44.361841",
     "status": "completed"
    },
    "tags": []
   },
   "outputs": [
    {
     "name": "stdout",
     "output_type": "stream",
     "text": [
      "<class 'pandas.core.frame.DataFrame'>\n",
      "RangeIndex: 8693 entries, 0 to 8692\n",
      "Data columns (total 15 columns):\n",
      " #   Column        Non-Null Count  Dtype  \n",
      "---  ------        --------------  -----  \n",
      " 0   HomePlanet    8492 non-null   object \n",
      " 1   CryoSleep     8476 non-null   object \n",
      " 2   Destination   8511 non-null   object \n",
      " 3   Age           8514 non-null   float64\n",
      " 4   VIP           8490 non-null   object \n",
      " 5   RoomService   8512 non-null   float64\n",
      " 6   FoodCourt     8510 non-null   float64\n",
      " 7   ShoppingMall  8485 non-null   float64\n",
      " 8   Spa           8510 non-null   float64\n",
      " 9   VRDeck        8505 non-null   float64\n",
      " 10  Name          8493 non-null   object \n",
      " 11  Transported   8693 non-null   bool   \n",
      " 12  Group         8693 non-null   object \n",
      " 13  Deck          8693 non-null   object \n",
      " 14  Side          8693 non-null   object \n",
      "dtypes: bool(1), float64(6), object(8)\n",
      "memory usage: 959.4+ KB\n"
     ]
    }
   ],
   "source": [
    "#checking data type\n",
    "df_train.info()"
   ]
  },
  {
   "cell_type": "code",
   "execution_count": 20,
   "id": "a3ee8b7a",
   "metadata": {
    "execution": {
     "iopub.execute_input": "2022-04-16T02:43:44.631516Z",
     "iopub.status.busy": "2022-04-16T02:43:44.630862Z",
     "iopub.status.idle": "2022-04-16T02:43:44.646631Z",
     "shell.execute_reply": "2022-04-16T02:43:44.647112Z",
     "shell.execute_reply.started": "2022-04-16T02:20:00.601744Z"
    },
    "papermill": {
     "duration": 0.100052,
     "end_time": "2022-04-16T02:43:44.647288",
     "exception": false,
     "start_time": "2022-04-16T02:43:44.547236",
     "status": "completed"
    },
    "tags": []
   },
   "outputs": [
    {
     "data": {
      "text/plain": [
       "HomePlanet      201\n",
       "CryoSleep       217\n",
       "Destination     182\n",
       "Age             179\n",
       "VIP             203\n",
       "RoomService     181\n",
       "FoodCourt       183\n",
       "ShoppingMall    208\n",
       "Spa             183\n",
       "VRDeck          188\n",
       "Name            200\n",
       "Transported       0\n",
       "Group             0\n",
       "Deck              0\n",
       "Side              0\n",
       "dtype: int64"
      ]
     },
     "execution_count": 20,
     "metadata": {},
     "output_type": "execute_result"
    }
   ],
   "source": [
    "#checking null values\n",
    "df_train.isnull().sum()"
   ]
  },
  {
   "cell_type": "code",
   "execution_count": 21,
   "id": "558923af",
   "metadata": {
    "execution": {
     "iopub.execute_input": "2022-04-16T02:43:44.814431Z",
     "iopub.status.busy": "2022-04-16T02:43:44.813742Z",
     "iopub.status.idle": "2022-04-16T02:43:44.819363Z",
     "shell.execute_reply": "2022-04-16T02:43:44.819810Z",
     "shell.execute_reply.started": "2022-04-16T02:20:00.621497Z"
    },
    "papermill": {
     "duration": 0.090691,
     "end_time": "2022-04-16T02:43:44.819991",
     "exception": false,
     "start_time": "2022-04-16T02:43:44.729300",
     "status": "completed"
    },
    "tags": []
   },
   "outputs": [],
   "source": [
    "# Regarding the Age filling the missing data with the average would be a good action\n",
    "df_train['Age'].fillna(value = df_train['Age'].mean(), inplace = True)\n",
    "df_test['Age'].fillna(value = df_test['Age'].mean(), inplace = True)"
   ]
  },
  {
   "cell_type": "code",
   "execution_count": 22,
   "id": "fddec5fd",
   "metadata": {
    "execution": {
     "iopub.execute_input": "2022-04-16T02:43:44.992489Z",
     "iopub.status.busy": "2022-04-16T02:43:44.991797Z",
     "iopub.status.idle": "2022-04-16T02:43:44.998299Z",
     "shell.execute_reply": "2022-04-16T02:43:44.997733Z",
     "shell.execute_reply.started": "2022-04-16T02:20:00.635220Z"
    },
    "papermill": {
     "duration": 0.095439,
     "end_time": "2022-04-16T02:43:44.998450",
     "exception": false,
     "start_time": "2022-04-16T02:43:44.903011",
     "status": "completed"
    },
    "tags": []
   },
   "outputs": [],
   "source": [
    "#All expenses will be filled with zero for all null values\n",
    "df_train['RoomService'].fillna(value = 0, inplace = True)\n",
    "df_train['FoodCourt'].fillna(value = 0, inplace = True)\n",
    "df_train['ShoppingMall'].fillna(value = 0, inplace = True)\n",
    "df_train['Spa'].fillna(value = 0, inplace = True)\n",
    "df_train['VRDeck'].fillna(value = 0, inplace = True)\n",
    "df_test['RoomService'].fillna(value = 0, inplace = True)\n",
    "df_test['FoodCourt'].fillna(value = 0, inplace = True)\n",
    "df_test['ShoppingMall'].fillna(value = 0, inplace = True)\n",
    "df_test['Spa'].fillna(value = 0, inplace = True)\n",
    "df_test['VRDeck'].fillna(value = 0, inplace = True)"
   ]
  },
  {
   "cell_type": "code",
   "execution_count": 23,
   "id": "644121f1",
   "metadata": {
    "execution": {
     "iopub.execute_input": "2022-04-16T02:43:45.170148Z",
     "iopub.status.busy": "2022-04-16T02:43:45.169482Z",
     "iopub.status.idle": "2022-04-16T02:43:45.172012Z",
     "shell.execute_reply": "2022-04-16T02:43:45.172589Z",
     "shell.execute_reply.started": "2022-04-16T02:20:00.653692Z"
    },
    "papermill": {
     "duration": 0.092456,
     "end_time": "2022-04-16T02:43:45.172771",
     "exception": false,
     "start_time": "2022-04-16T02:43:45.080315",
     "status": "completed"
    },
    "tags": []
   },
   "outputs": [],
   "source": [
    "#No need for name columns so we will drop it\n",
    "df_train.drop('Name', inplace = True, axis =1)\n",
    "df_test.drop('Name', inplace = True, axis = 1)"
   ]
  },
  {
   "cell_type": "code",
   "execution_count": 24,
   "id": "3b1fbfc8",
   "metadata": {
    "execution": {
     "iopub.execute_input": "2022-04-16T02:43:45.350698Z",
     "iopub.status.busy": "2022-04-16T02:43:45.350016Z",
     "iopub.status.idle": "2022-04-16T02:43:45.356672Z",
     "shell.execute_reply": "2022-04-16T02:43:45.357188Z",
     "shell.execute_reply.started": "2022-04-16T02:20:00.675645Z"
    },
    "papermill": {
     "duration": 0.1019,
     "end_time": "2022-04-16T02:43:45.357370",
     "exception": false,
     "start_time": "2022-04-16T02:43:45.255470",
     "status": "completed"
    },
    "tags": []
   },
   "outputs": [
    {
     "data": {
      "text/plain": [
       "HomePlanet      201\n",
       "CryoSleep       217\n",
       "Destination     182\n",
       "Age               0\n",
       "VIP             203\n",
       "RoomService       0\n",
       "FoodCourt         0\n",
       "ShoppingMall      0\n",
       "Spa               0\n",
       "VRDeck            0\n",
       "Transported       0\n",
       "Group             0\n",
       "Deck              0\n",
       "Side              0\n",
       "dtype: int64"
      ]
     },
     "execution_count": 24,
     "metadata": {},
     "output_type": "execute_result"
    }
   ],
   "source": [
    "#checking null values again\n",
    "df_train.isnull().sum()"
   ]
  },
  {
   "cell_type": "code",
   "execution_count": 25,
   "id": "9ac3730c",
   "metadata": {
    "execution": {
     "iopub.execute_input": "2022-04-16T02:43:45.535543Z",
     "iopub.status.busy": "2022-04-16T02:43:45.534823Z",
     "iopub.status.idle": "2022-04-16T02:43:45.559160Z",
     "shell.execute_reply": "2022-04-16T02:43:45.558620Z",
     "shell.execute_reply.started": "2022-04-16T02:20:00.699786Z"
    },
    "papermill": {
     "duration": 0.116435,
     "end_time": "2022-04-16T02:43:45.559315",
     "exception": false,
     "start_time": "2022-04-16T02:43:45.442880",
     "status": "completed"
    },
    "tags": []
   },
   "outputs": [],
   "source": [
    "# For HomePlanet, CryoSleep, Destination and VIP we will fill NAN with the most frequent value\n",
    "df_train['HomePlanet'].fillna(df_train['HomePlanet'].mode()[0], inplace = True)\n",
    "df_train['CryoSleep'].fillna( df_train['CryoSleep'].mode()[0], inplace = True)\n",
    "df_train['Destination'].fillna( df_train['Destination'].mode()[0], inplace = True)\n",
    "df_train['VIP'].fillna(df_train['VIP'].mode()[0], inplace = True)\n",
    "df_test['HomePlanet'].fillna( df_test['HomePlanet'].mode()[0], inplace = True)\n",
    "df_test['CryoSleep'].fillna( df_test['CryoSleep'].mode()[0], inplace = True)\n",
    "df_test['Destination'].fillna( df_test['Destination'].mode()[0], inplace = True)\n",
    "df_test['VIP'].fillna(df_test['VIP'].mode()[0], inplace = True)"
   ]
  },
  {
   "cell_type": "markdown",
   "id": "ba947f9e",
   "metadata": {
    "papermill": {
     "duration": 0.081179,
     "end_time": "2022-04-16T02:43:45.721555",
     "exception": false,
     "start_time": "2022-04-16T02:43:45.640376",
     "status": "completed"
    },
    "tags": []
   },
   "source": [
    "### Now we have done dealing with missing values"
   ]
  },
  {
   "cell_type": "markdown",
   "id": "3f43d6ef",
   "metadata": {
    "papermill": {
     "duration": 0.08195,
     "end_time": "2022-04-16T02:43:45.884885",
     "exception": false,
     "start_time": "2022-04-16T02:43:45.802935",
     "status": "completed"
    },
    "tags": []
   },
   "source": [
    "## Encoding Categorical Values"
   ]
  },
  {
   "cell_type": "code",
   "execution_count": 26,
   "id": "b8df64d0",
   "metadata": {
    "execution": {
     "iopub.execute_input": "2022-04-16T02:43:46.059680Z",
     "iopub.status.busy": "2022-04-16T02:43:46.059017Z",
     "iopub.status.idle": "2022-04-16T02:43:46.069236Z",
     "shell.execute_reply": "2022-04-16T02:43:46.069805Z",
     "shell.execute_reply.started": "2022-04-16T02:20:00.734715Z"
    },
    "papermill": {
     "duration": 0.101346,
     "end_time": "2022-04-16T02:43:46.070018",
     "exception": false,
     "start_time": "2022-04-16T02:43:45.968672",
     "status": "completed"
    },
    "tags": []
   },
   "outputs": [
    {
     "name": "stdout",
     "output_type": "stream",
     "text": [
      "<class 'pandas.core.frame.DataFrame'>\n",
      "RangeIndex: 8693 entries, 0 to 8692\n",
      "Data columns (total 14 columns):\n",
      " #   Column        Non-Null Count  Dtype  \n",
      "---  ------        --------------  -----  \n",
      " 0   HomePlanet    8693 non-null   object \n",
      " 1   CryoSleep     8693 non-null   bool   \n",
      " 2   Destination   8693 non-null   object \n",
      " 3   Age           8693 non-null   float64\n",
      " 4   VIP           8693 non-null   bool   \n",
      " 5   RoomService   8693 non-null   float64\n",
      " 6   FoodCourt     8693 non-null   float64\n",
      " 7   ShoppingMall  8693 non-null   float64\n",
      " 8   Spa           8693 non-null   float64\n",
      " 9   VRDeck        8693 non-null   float64\n",
      " 10  Transported   8693 non-null   bool   \n",
      " 11  Group         8693 non-null   object \n",
      " 12  Deck          8693 non-null   object \n",
      " 13  Side          8693 non-null   object \n",
      "dtypes: bool(3), float64(6), object(5)\n",
      "memory usage: 772.6+ KB\n"
     ]
    }
   ],
   "source": [
    "#checking data type\n",
    "df_train.info()"
   ]
  },
  {
   "cell_type": "code",
   "execution_count": 27,
   "id": "5971d8ba",
   "metadata": {
    "execution": {
     "iopub.execute_input": "2022-04-16T02:43:46.245960Z",
     "iopub.status.busy": "2022-04-16T02:43:46.241141Z",
     "iopub.status.idle": "2022-04-16T02:43:46.274013Z",
     "shell.execute_reply": "2022-04-16T02:43:46.274507Z",
     "shell.execute_reply.started": "2022-04-16T02:20:00.755964Z"
    },
    "papermill": {
     "duration": 0.119224,
     "end_time": "2022-04-16T02:43:46.274695",
     "exception": false,
     "start_time": "2022-04-16T02:43:46.155471",
     "status": "completed"
    },
    "tags": []
   },
   "outputs": [],
   "source": [
    "#For categorical features with a few number of unique values (HomePlanet, CrySleep, Destination, VIP, Deck, Side) we will use one hot encoder, \n",
    "#and for bigger frequency feature (Group) we will use label encoder\n",
    "one_hot_encoded_training_predictors = pd.get_dummies(df_train[['HomePlanet','Destination','Deck','Side']])\n",
    "one_hot_encoded_testing_predictors = pd.get_dummies(df_test[['HomePlanet','Destination','Deck','Side']])\n",
    "df_train.drop(['HomePlanet','Destination','Deck','Side'], axis = 1, inplace = True)\n",
    "df_test.drop(['HomePlanet','Destination','Deck','Side'], axis = 1, inplace = True)\n",
    "df_train = df_train.join(one_hot_encoded_training_predictors)\n",
    "df_test = df_test.join(one_hot_encoded_testing_predictors)"
   ]
  },
  {
   "cell_type": "code",
   "execution_count": 28,
   "id": "33513a9a",
   "metadata": {
    "execution": {
     "iopub.execute_input": "2022-04-16T02:43:46.442054Z",
     "iopub.status.busy": "2022-04-16T02:43:46.441072Z",
     "iopub.status.idle": "2022-04-16T02:43:46.457013Z",
     "shell.execute_reply": "2022-04-16T02:43:46.457868Z",
     "shell.execute_reply.started": "2022-04-16T02:20:00.799277Z"
    },
    "papermill": {
     "duration": 0.101732,
     "end_time": "2022-04-16T02:43:46.458098",
     "exception": false,
     "start_time": "2022-04-16T02:43:46.356366",
     "status": "completed"
    },
    "tags": []
   },
   "outputs": [
    {
     "name": "stdout",
     "output_type": "stream",
     "text": [
      "<class 'pandas.core.frame.DataFrame'>\n",
      "RangeIndex: 8693 entries, 0 to 8692\n",
      "Data columns (total 28 columns):\n",
      " #   Column                     Non-Null Count  Dtype  \n",
      "---  ------                     --------------  -----  \n",
      " 0   CryoSleep                  8693 non-null   bool   \n",
      " 1   Age                        8693 non-null   float64\n",
      " 2   VIP                        8693 non-null   bool   \n",
      " 3   RoomService                8693 non-null   float64\n",
      " 4   FoodCourt                  8693 non-null   float64\n",
      " 5   ShoppingMall               8693 non-null   float64\n",
      " 6   Spa                        8693 non-null   float64\n",
      " 7   VRDeck                     8693 non-null   float64\n",
      " 8   Transported                8693 non-null   bool   \n",
      " 9   Group                      8693 non-null   object \n",
      " 10  HomePlanet_Earth           8693 non-null   uint8  \n",
      " 11  HomePlanet_Europa          8693 non-null   uint8  \n",
      " 12  HomePlanet_Mars            8693 non-null   uint8  \n",
      " 13  Destination_55 Cancri e    8693 non-null   uint8  \n",
      " 14  Destination_PSO J318.5-22  8693 non-null   uint8  \n",
      " 15  Destination_TRAPPIST-1e    8693 non-null   uint8  \n",
      " 16  Deck_A                     8693 non-null   uint8  \n",
      " 17  Deck_B                     8693 non-null   uint8  \n",
      " 18  Deck_C                     8693 non-null   uint8  \n",
      " 19  Deck_D                     8693 non-null   uint8  \n",
      " 20  Deck_E                     8693 non-null   uint8  \n",
      " 21  Deck_F                     8693 non-null   uint8  \n",
      " 22  Deck_G                     8693 non-null   uint8  \n",
      " 23  Deck_N                     8693 non-null   uint8  \n",
      " 24  Deck_T                     8693 non-null   uint8  \n",
      " 25  Side_N                     8693 non-null   uint8  \n",
      " 26  Side_P                     8693 non-null   uint8  \n",
      " 27  Side_S                     8693 non-null   uint8  \n",
      "dtypes: bool(3), float64(6), object(1), uint8(18)\n",
      "memory usage: 653.8+ KB\n"
     ]
    }
   ],
   "source": [
    "#checking columns type\n",
    "df_train.info()"
   ]
  },
  {
   "cell_type": "code",
   "execution_count": 29,
   "id": "829f33ef",
   "metadata": {
    "execution": {
     "iopub.execute_input": "2022-04-16T02:43:46.627787Z",
     "iopub.status.busy": "2022-04-16T02:43:46.626828Z",
     "iopub.status.idle": "2022-04-16T02:43:46.634356Z",
     "shell.execute_reply": "2022-04-16T02:43:46.634883Z",
     "shell.execute_reply.started": "2022-04-16T02:20:00.826428Z"
    },
    "papermill": {
     "duration": 0.09333,
     "end_time": "2022-04-16T02:43:46.635061",
     "exception": false,
     "start_time": "2022-04-16T02:43:46.541731",
     "status": "completed"
    },
    "tags": []
   },
   "outputs": [],
   "source": [
    "#Converting bool columns into int\n",
    "df_train['CryoSleep'] = df_train['CryoSleep'].astype(int)\n",
    "df_train['VIP'] = df_train['VIP'].astype(int)\n",
    "df_train['Transported'] = df_train['Transported'].astype(int)\n",
    "df_test['CryoSleep'] = df_test['CryoSleep'].astype(int)\n",
    "df_test['VIP'] = df_test['VIP'].astype(int)"
   ]
  },
  {
   "cell_type": "code",
   "execution_count": 30,
   "id": "689a2e6e",
   "metadata": {
    "execution": {
     "iopub.execute_input": "2022-04-16T02:43:46.818184Z",
     "iopub.status.busy": "2022-04-16T02:43:46.804200Z",
     "iopub.status.idle": "2022-04-16T02:43:46.833771Z",
     "shell.execute_reply": "2022-04-16T02:43:46.834239Z",
     "shell.execute_reply.started": "2022-04-16T02:20:00.877181Z"
    },
    "papermill": {
     "duration": 0.116955,
     "end_time": "2022-04-16T02:43:46.834428",
     "exception": false,
     "start_time": "2022-04-16T02:43:46.717473",
     "status": "completed"
    },
    "tags": []
   },
   "outputs": [],
   "source": [
    "#Finally we will apply label enconder to \"Group\"\n",
    "le = preprocessing.LabelEncoder()\n",
    "le.fit(df_train['Group'])\n",
    "transformed = le.transform(df_train['Group'])\n",
    "df_train['Group'] = transformed\n",
    "le.fit(df_test['Group'])\n",
    "transformed = le.transform(df_test['Group'])\n",
    "df_test['Group'] = transformed"
   ]
  },
  {
   "cell_type": "code",
   "execution_count": 31,
   "id": "b127c0fb",
   "metadata": {
    "execution": {
     "iopub.execute_input": "2022-04-16T02:43:47.006484Z",
     "iopub.status.busy": "2022-04-16T02:43:47.005809Z",
     "iopub.status.idle": "2022-04-16T02:43:47.021064Z",
     "shell.execute_reply": "2022-04-16T02:43:47.019843Z",
     "shell.execute_reply.started": "2022-04-16T02:20:00.911536Z"
    },
    "papermill": {
     "duration": 0.102621,
     "end_time": "2022-04-16T02:43:47.021320",
     "exception": false,
     "start_time": "2022-04-16T02:43:46.918699",
     "status": "completed"
    },
    "tags": []
   },
   "outputs": [
    {
     "name": "stdout",
     "output_type": "stream",
     "text": [
      "<class 'pandas.core.frame.DataFrame'>\n",
      "RangeIndex: 4277 entries, 0 to 4276\n",
      "Data columns (total 27 columns):\n",
      " #   Column                     Non-Null Count  Dtype  \n",
      "---  ------                     --------------  -----  \n",
      " 0   CryoSleep                  4277 non-null   int64  \n",
      " 1   Age                        4277 non-null   float64\n",
      " 2   VIP                        4277 non-null   int64  \n",
      " 3   RoomService                4277 non-null   float64\n",
      " 4   FoodCourt                  4277 non-null   float64\n",
      " 5   ShoppingMall               4277 non-null   float64\n",
      " 6   Spa                        4277 non-null   float64\n",
      " 7   VRDeck                     4277 non-null   float64\n",
      " 8   Group                      4277 non-null   int64  \n",
      " 9   HomePlanet_Earth           4277 non-null   uint8  \n",
      " 10  HomePlanet_Europa          4277 non-null   uint8  \n",
      " 11  HomePlanet_Mars            4277 non-null   uint8  \n",
      " 12  Destination_55 Cancri e    4277 non-null   uint8  \n",
      " 13  Destination_PSO J318.5-22  4277 non-null   uint8  \n",
      " 14  Destination_TRAPPIST-1e    4277 non-null   uint8  \n",
      " 15  Deck_A                     4277 non-null   uint8  \n",
      " 16  Deck_B                     4277 non-null   uint8  \n",
      " 17  Deck_C                     4277 non-null   uint8  \n",
      " 18  Deck_D                     4277 non-null   uint8  \n",
      " 19  Deck_E                     4277 non-null   uint8  \n",
      " 20  Deck_F                     4277 non-null   uint8  \n",
      " 21  Deck_G                     4277 non-null   uint8  \n",
      " 22  Deck_N                     4277 non-null   uint8  \n",
      " 23  Deck_T                     4277 non-null   uint8  \n",
      " 24  Side_N                     4277 non-null   uint8  \n",
      " 25  Side_P                     4277 non-null   uint8  \n",
      " 26  Side_S                     4277 non-null   uint8  \n",
      "dtypes: float64(6), int64(3), uint8(18)\n",
      "memory usage: 376.0 KB\n"
     ]
    }
   ],
   "source": [
    "#checking columns type again\n",
    "df_test.info()"
   ]
  },
  {
   "cell_type": "markdown",
   "id": "3e0b013e",
   "metadata": {
    "papermill": {
     "duration": 0.082023,
     "end_time": "2022-04-16T02:43:47.186780",
     "exception": false,
     "start_time": "2022-04-16T02:43:47.104757",
     "status": "completed"
    },
    "tags": []
   },
   "source": [
    "## Model"
   ]
  },
  {
   "cell_type": "code",
   "execution_count": 32,
   "id": "d9e67c22",
   "metadata": {
    "execution": {
     "iopub.execute_input": "2022-04-16T02:43:47.356501Z",
     "iopub.status.busy": "2022-04-16T02:43:47.355803Z",
     "iopub.status.idle": "2022-04-16T02:43:47.367418Z",
     "shell.execute_reply": "2022-04-16T02:43:47.366863Z",
     "shell.execute_reply.started": "2022-04-16T02:20:00.935241Z"
    },
    "papermill": {
     "duration": 0.096701,
     "end_time": "2022-04-16T02:43:47.367567",
     "exception": false,
     "start_time": "2022-04-16T02:43:47.270866",
     "status": "completed"
    },
    "tags": []
   },
   "outputs": [],
   "source": [
    "#Let's split our training data into train/test split\n",
    "X = df_train.drop(\"Transported\", axis = 1)\n",
    "y = df_train['Transported']\n",
    "X_train, X_test, y_train, y_test = train_test_split(X,y,test_size =0.2, random_state = 40)"
   ]
  },
  {
   "cell_type": "markdown",
   "id": "65f49696",
   "metadata": {
    "papermill": {
     "duration": 0.082686,
     "end_time": "2022-04-16T02:43:47.532844",
     "exception": false,
     "start_time": "2022-04-16T02:43:47.450158",
     "status": "completed"
    },
    "tags": []
   },
   "source": [
    "### Logistic Regression"
   ]
  },
  {
   "cell_type": "code",
   "execution_count": 33,
   "id": "80d82d37",
   "metadata": {
    "execution": {
     "iopub.execute_input": "2022-04-16T02:43:47.705672Z",
     "iopub.status.busy": "2022-04-16T02:43:47.705012Z",
     "iopub.status.idle": "2022-04-16T02:43:47.894113Z",
     "shell.execute_reply": "2022-04-16T02:43:47.894845Z",
     "shell.execute_reply.started": "2022-04-16T02:20:00.949400Z"
    },
    "papermill": {
     "duration": 0.279577,
     "end_time": "2022-04-16T02:43:47.895028",
     "exception": false,
     "start_time": "2022-04-16T02:43:47.615451",
     "status": "completed"
    },
    "tags": []
   },
   "outputs": [
    {
     "name": "stdout",
     "output_type": "stream",
     "text": [
      "[[676 204]\n",
      " [146 713]]\n",
      "              precision    recall  f1-score   support\n",
      "\n",
      "           0       0.82      0.77      0.79       880\n",
      "           1       0.78      0.83      0.80       859\n",
      "\n",
      "    accuracy                           0.80      1739\n",
      "   macro avg       0.80      0.80      0.80      1739\n",
      "weighted avg       0.80      0.80      0.80      1739\n",
      "\n",
      "0.7987349051178838\n"
     ]
    },
    {
     "name": "stderr",
     "output_type": "stream",
     "text": [
      "/opt/conda/lib/python3.7/site-packages/sklearn/linear_model/_logistic.py:818: ConvergenceWarning: lbfgs failed to converge (status=1):\n",
      "STOP: TOTAL NO. of ITERATIONS REACHED LIMIT.\n",
      "\n",
      "Increase the number of iterations (max_iter) or scale the data as shown in:\n",
      "    https://scikit-learn.org/stable/modules/preprocessing.html\n",
      "Please also refer to the documentation for alternative solver options:\n",
      "    https://scikit-learn.org/stable/modules/linear_model.html#logistic-regression\n",
      "  extra_warning_msg=_LOGISTIC_SOLVER_CONVERGENCE_MSG,\n"
     ]
    }
   ],
   "source": [
    "#Predict our Test data using Logistic Regression\n",
    "logmodel= LogisticRegression()\n",
    "logmodel.fit(X_train, y_train)\n",
    "predicted_lr = logmodel.predict(X_test)\n",
    "#Evaluate our logistic regression model\n",
    "print(confusion_matrix(y_test, predicted_lr))\n",
    "print(classification_report(y_test, predicted_lr))\n",
    "print(logmodel.score(X_test, y_test))"
   ]
  },
  {
   "cell_type": "markdown",
   "id": "dfe05b59",
   "metadata": {
    "papermill": {
     "duration": 0.084627,
     "end_time": "2022-04-16T02:43:48.113880",
     "exception": false,
     "start_time": "2022-04-16T02:43:48.029253",
     "status": "completed"
    },
    "tags": []
   },
   "source": [
    "### K-Nearest Neighbor Classifier"
   ]
  },
  {
   "cell_type": "code",
   "execution_count": 34,
   "id": "deb7219d",
   "metadata": {
    "execution": {
     "iopub.execute_input": "2022-04-16T02:43:48.290401Z",
     "iopub.status.busy": "2022-04-16T02:43:48.289269Z",
     "iopub.status.idle": "2022-04-16T02:43:48.687356Z",
     "shell.execute_reply": "2022-04-16T02:43:48.687929Z",
     "shell.execute_reply.started": "2022-04-16T02:20:01.173225Z"
    },
    "papermill": {
     "duration": 0.490009,
     "end_time": "2022-04-16T02:43:48.688117",
     "exception": false,
     "start_time": "2022-04-16T02:43:48.198108",
     "status": "completed"
    },
    "tags": []
   },
   "outputs": [
    {
     "name": "stdout",
     "output_type": "stream",
     "text": [
      "[[617 263]\n",
      " [192 667]]\n",
      "              precision    recall  f1-score   support\n",
      "\n",
      "           0       0.76      0.70      0.73       880\n",
      "           1       0.72      0.78      0.75       859\n",
      "\n",
      "    accuracy                           0.74      1739\n",
      "   macro avg       0.74      0.74      0.74      1739\n",
      "weighted avg       0.74      0.74      0.74      1739\n",
      "\n"
     ]
    }
   ],
   "source": [
    "#KNN classifier \n",
    "KN_calssifier = KNeighborsClassifier()\n",
    "KN_calssifier.fit(X_train, y_train)\n",
    "predicted_kn = KN_calssifier.predict(X_test)\n",
    "print(confusion_matrix(y_test, predicted_kn))\n",
    "print(classification_report(y_test, predicted_kn))"
   ]
  },
  {
   "cell_type": "code",
   "execution_count": 35,
   "id": "34c5c210",
   "metadata": {
    "execution": {
     "iopub.execute_input": "2022-04-16T02:43:48.864648Z",
     "iopub.status.busy": "2022-04-16T02:43:48.863612Z",
     "iopub.status.idle": "2022-04-16T02:44:11.097044Z",
     "shell.execute_reply": "2022-04-16T02:44:11.096491Z",
     "shell.execute_reply.started": "2022-04-16T02:20:01.582685Z"
    },
    "papermill": {
     "duration": 22.322097,
     "end_time": "2022-04-16T02:44:11.097196",
     "exception": false,
     "start_time": "2022-04-16T02:43:48.775099",
     "status": "completed"
    },
    "tags": []
   },
   "outputs": [],
   "source": [
    "#For loop to try different K values\n",
    "error_rate = []\n",
    "for i in range(1,60):\n",
    "    knn = KNeighborsClassifier(n_neighbors=i)\n",
    "    knn.fit(X_train, y_train)\n",
    "    pred_i = knn.predict(X_test)\n",
    "    error_rate.append(np.mean(pred_i != y_test))"
   ]
  },
  {
   "cell_type": "code",
   "execution_count": 36,
   "id": "c85f7e4a",
   "metadata": {
    "execution": {
     "iopub.execute_input": "2022-04-16T02:44:11.268854Z",
     "iopub.status.busy": "2022-04-16T02:44:11.267857Z",
     "iopub.status.idle": "2022-04-16T02:44:11.554688Z",
     "shell.execute_reply": "2022-04-16T02:44:11.555175Z",
     "shell.execute_reply.started": "2022-04-16T02:20:24.252467Z"
    },
    "papermill": {
     "duration": 0.374241,
     "end_time": "2022-04-16T02:44:11.555359",
     "exception": false,
     "start_time": "2022-04-16T02:44:11.181118",
     "status": "completed"
    },
    "tags": []
   },
   "outputs": [
    {
     "data": {
      "text/plain": [
       "Text(0, 0.5, 'Error Rate')"
      ]
     },
     "execution_count": 36,
     "metadata": {},
     "output_type": "execute_result"
    },
    {
     "data": {
      "image/png": "[encoded data removed]",
      "text/plain": [
       "<Figure size 720x432 with 1 Axes>"
      ]
     },
     "metadata": {},
     "output_type": "display_data"
    }
   ],
   "source": [
    "#Plt for-loop\n",
    "plt.figure(figsize = (10,6))\n",
    "plt.plot(range(1,60), error_rate, color = 'blue', linestyle = '--', marker = 'o',\n",
    "        markerfacecolor = 'red', markersize = 10)\n",
    "plt.title('Error Rate vs K')\n",
    "plt.xlabel('K')\n",
    "plt.ylabel(\"Error Rate\")"
   ]
  },
  {
   "cell_type": "markdown",
   "id": "125fa79c",
   "metadata": {
    "papermill": {
     "duration": 0.08578,
     "end_time": "2022-04-16T02:44:11.727399",
     "exception": false,
     "start_time": "2022-04-16T02:44:11.641619",
     "status": "completed"
    },
    "tags": []
   },
   "source": [
    "#### We found the best K-value = 34"
   ]
  },
  {
   "cell_type": "code",
   "execution_count": 37,
   "id": "fbbd3eda",
   "metadata": {
    "execution": {
     "iopub.execute_input": "2022-04-16T02:44:11.910798Z",
     "iopub.status.busy": "2022-04-16T02:44:11.910088Z",
     "iopub.status.idle": "2022-04-16T02:44:12.674880Z",
     "shell.execute_reply": "2022-04-16T02:44:12.675533Z",
     "shell.execute_reply.started": "2022-04-16T02:32:09.790450Z"
    },
    "papermill": {
     "duration": 0.85978,
     "end_time": "2022-04-16T02:44:12.675713",
     "exception": false,
     "start_time": "2022-04-16T02:44:11.815933",
     "status": "completed"
    },
    "tags": []
   },
   "outputs": [
    {
     "name": "stdout",
     "output_type": "stream",
     "text": [
      "              precision    recall  f1-score   support\n",
      "\n",
      "           0       0.83      0.71      0.77       880\n",
      "           1       0.74      0.85      0.79       859\n",
      "\n",
      "    accuracy                           0.78      1739\n",
      "   macro avg       0.79      0.78      0.78      1739\n",
      "weighted avg       0.79      0.78      0.78      1739\n",
      "\n",
      "[[624 256]\n",
      " [127 732]]\n",
      "0.7797584818861415\n"
     ]
    }
   ],
   "source": [
    "#KNN classifier after hypertuning\n",
    "KN_calssifier = KNeighborsClassifier(n_neighbors=34)\n",
    "KN_calssifier.fit(X_train, y_train)\n",
    "predicted_kn = KN_calssifier.predict(X_test)\n",
    "print(classification_report(y_test, predicted_kn))\n",
    "print(confusion_matrix(y_test, predicted_kn))\n",
    "print(KN_calssifier.score(X_test, y_test))"
   ]
  },
  {
   "cell_type": "markdown",
   "id": "1cad7271",
   "metadata": {
    "papermill": {
     "duration": 0.086388,
     "end_time": "2022-04-16T02:44:12.849105",
     "exception": false,
     "start_time": "2022-04-16T02:44:12.762717",
     "status": "completed"
    },
    "tags": []
   },
   "source": [
    "### Decision Tree Classifier"
   ]
  },
  {
   "cell_type": "code",
   "execution_count": 38,
   "id": "d5317179",
   "metadata": {
    "execution": {
     "iopub.execute_input": "2022-04-16T02:44:13.025851Z",
     "iopub.status.busy": "2022-04-16T02:44:13.025115Z",
     "iopub.status.idle": "2022-04-16T02:44:13.092395Z",
     "shell.execute_reply": "2022-04-16T02:44:13.092916Z",
     "shell.execute_reply.started": "2022-04-16T02:20:25.344350Z"
    },
    "papermill": {
     "duration": 0.157191,
     "end_time": "2022-04-16T02:44:13.093094",
     "exception": false,
     "start_time": "2022-04-16T02:44:12.935903",
     "status": "completed"
    },
    "tags": []
   },
   "outputs": [
    {
     "name": "stdout",
     "output_type": "stream",
     "text": [
      "[[641 239]\n",
      " [227 632]]\n",
      "              precision    recall  f1-score   support\n",
      "\n",
      "           0       0.74      0.73      0.73       880\n",
      "           1       0.73      0.74      0.73       859\n",
      "\n",
      "    accuracy                           0.73      1739\n",
      "   macro avg       0.73      0.73      0.73      1739\n",
      "weighted avg       0.73      0.73      0.73      1739\n",
      "\n",
      "0.7320299022426682\n"
     ]
    }
   ],
   "source": [
    "dtree = DecisionTreeClassifier()\n",
    "dtree.fit(X_train, y_train)\n",
    "predictions_dt = dtree.predict(X_test)\n",
    "print(confusion_matrix(y_test, predictions_dt))\n",
    "print(classification_report(y_test, predictions_dt))\n",
    "print(dtree.score(X_test, y_test))"
   ]
  },
  {
   "cell_type": "markdown",
   "id": "7857c4c3",
   "metadata": {
    "papermill": {
     "duration": 0.088812,
     "end_time": "2022-04-16T02:44:13.288102",
     "exception": false,
     "start_time": "2022-04-16T02:44:13.199290",
     "status": "completed"
    },
    "tags": []
   },
   "source": [
    "### Random Forest Classifier"
   ]
  },
  {
   "cell_type": "code",
   "execution_count": 39,
   "id": "4ded1a4c",
   "metadata": {
    "execution": {
     "iopub.execute_input": "2022-04-16T02:44:13.470541Z",
     "iopub.status.busy": "2022-04-16T02:44:13.465568Z",
     "iopub.status.idle": "2022-04-16T02:44:16.396362Z",
     "shell.execute_reply": "2022-04-16T02:44:16.397130Z",
     "shell.execute_reply.started": "2022-04-16T02:20:25.423143Z"
    },
    "papermill": {
     "duration": 3.021281,
     "end_time": "2022-04-16T02:44:16.397322",
     "exception": false,
     "start_time": "2022-04-16T02:44:13.376041",
     "status": "completed"
    },
    "tags": []
   },
   "outputs": [
    {
     "name": "stdout",
     "output_type": "stream",
     "text": [
      "[[740 140]\n",
      " [198 661]]\n",
      "              precision    recall  f1-score   support\n",
      "\n",
      "           0       0.79      0.84      0.81       880\n",
      "           1       0.83      0.77      0.80       859\n",
      "\n",
      "    accuracy                           0.81      1739\n",
      "   macro avg       0.81      0.81      0.81      1739\n",
      "weighted avg       0.81      0.81      0.81      1739\n",
      "\n",
      "0.8056354226566993\n"
     ]
    }
   ],
   "source": [
    "#Randomforest Classifier\n",
    "rfc = RandomForestClassifier(n_estimators= 300)\n",
    "rfc.fit(X_train, y_train)\n",
    "predictions_rf = rfc.predict(X_test)\n",
    "print(confusion_matrix(y_test, predictions_rf))\n",
    "print(classification_report(y_test, predictions_rf))\n",
    "print(rfc.score(X_test, y_test))"
   ]
  },
  {
   "cell_type": "markdown",
   "id": "8bfb90e5",
   "metadata": {
    "papermill": {
     "duration": 0.089508,
     "end_time": "2022-04-16T02:44:16.574551",
     "exception": false,
     "start_time": "2022-04-16T02:44:16.485043",
     "status": "completed"
    },
    "tags": []
   },
   "source": [
    "### Naive Bayes Classifier"
   ]
  },
  {
   "cell_type": "code",
   "execution_count": 40,
   "id": "00ba4e15",
   "metadata": {
    "execution": {
     "iopub.execute_input": "2022-04-16T02:44:16.754955Z",
     "iopub.status.busy": "2022-04-16T02:44:16.754304Z",
     "iopub.status.idle": "2022-04-16T02:44:16.779722Z",
     "shell.execute_reply": "2022-04-16T02:44:16.780770Z",
     "shell.execute_reply.started": "2022-04-16T02:20:28.493477Z"
    },
    "papermill": {
     "duration": 0.119434,
     "end_time": "2022-04-16T02:44:16.781102",
     "exception": false,
     "start_time": "2022-04-16T02:44:16.661668",
     "status": "completed"
    },
    "tags": []
   },
   "outputs": [
    {
     "name": "stdout",
     "output_type": "stream",
     "text": [
      "[[487 393]\n",
      " [ 97 762]]\n",
      "              precision    recall  f1-score   support\n",
      "\n",
      "           0       0.83      0.55      0.67       880\n",
      "           1       0.66      0.89      0.76       859\n",
      "\n",
      "    accuracy                           0.72      1739\n",
      "   macro avg       0.75      0.72      0.71      1739\n",
      "weighted avg       0.75      0.72      0.71      1739\n",
      "\n",
      "0.7182288671650374\n"
     ]
    }
   ],
   "source": [
    "NB = GaussianNB()\n",
    "NB.fit(X_train, y_train)\n",
    "predictions_nb = NB.predict(X_test)\n",
    "print(confusion_matrix(y_test, predictions_nb))\n",
    "print(classification_report(y_test, predictions_nb))\n",
    "print(NB.score(X_test, y_test))"
   ]
  },
  {
   "cell_type": "markdown",
   "id": "d0f1aeb3",
   "metadata": {
    "papermill": {
     "duration": 0.087243,
     "end_time": "2022-04-16T02:44:16.957394",
     "exception": false,
     "start_time": "2022-04-16T02:44:16.870151",
     "status": "completed"
    },
    "tags": []
   },
   "source": [
    "### Support Vecotr Classifier"
   ]
  },
  {
   "cell_type": "code",
   "execution_count": 41,
   "id": "7e3e4162",
   "metadata": {
    "execution": {
     "iopub.execute_input": "2022-04-16T02:44:17.137766Z",
     "iopub.status.busy": "2022-04-16T02:44:17.136736Z",
     "iopub.status.idle": "2022-04-16T02:44:19.988429Z",
     "shell.execute_reply": "2022-04-16T02:44:19.987824Z",
     "shell.execute_reply.started": "2022-04-16T02:20:28.526348Z"
    },
    "papermill": {
     "duration": 2.942405,
     "end_time": "2022-04-16T02:44:19.988588",
     "exception": false,
     "start_time": "2022-04-16T02:44:17.046183",
     "status": "completed"
    },
    "tags": []
   },
   "outputs": [
    {
     "name": "stdout",
     "output_type": "stream",
     "text": [
      "[[710 170]\n",
      " [156 703]]\n",
      "              precision    recall  f1-score   support\n",
      "\n",
      "           0       0.82      0.81      0.81       880\n",
      "           1       0.81      0.82      0.81       859\n",
      "\n",
      "    accuracy                           0.81      1739\n",
      "   macro avg       0.81      0.81      0.81      1739\n",
      "weighted avg       0.81      0.81      0.81      1739\n",
      "\n",
      "0.8125359401955147\n"
     ]
    }
   ],
   "source": [
    "svc = make_pipeline(StandardScaler(), SVC(gamma='auto')) \n",
    "svc.fit(X_train, y_train)\n",
    "predictions_svc = svc.predict(X_test)\n",
    "print(confusion_matrix(y_test, predictions_svc))\n",
    "print(classification_report(y_test, predictions_svc))\n",
    "print(svc.score(X_test, y_test))"
   ]
  },
  {
   "cell_type": "markdown",
   "id": "d5c070eb",
   "metadata": {
    "papermill": {
     "duration": 0.087718,
     "end_time": "2022-04-16T02:44:20.165074",
     "exception": false,
     "start_time": "2022-04-16T02:44:20.077356",
     "status": "completed"
    },
    "tags": []
   },
   "source": [
    "### Stochastic Gradient Descent"
   ]
  },
  {
   "cell_type": "code",
   "execution_count": 42,
   "id": "421297f2",
   "metadata": {
    "execution": {
     "iopub.execute_input": "2022-04-16T02:44:20.349863Z",
     "iopub.status.busy": "2022-04-16T02:44:20.349157Z",
     "iopub.status.idle": "2022-04-16T02:44:20.449223Z",
     "shell.execute_reply": "2022-04-16T02:44:20.450825Z",
     "shell.execute_reply.started": "2022-04-16T02:20:31.626226Z"
    },
    "papermill": {
     "duration": 0.197494,
     "end_time": "2022-04-16T02:44:20.451201",
     "exception": false,
     "start_time": "2022-04-16T02:44:20.253707",
     "status": "completed"
    },
    "tags": []
   },
   "outputs": [
    {
     "name": "stdout",
     "output_type": "stream",
     "text": [
      "[[643 237]\n",
      " [155 704]]\n",
      "              precision    recall  f1-score   support\n",
      "\n",
      "           0       0.81      0.73      0.77       880\n",
      "           1       0.75      0.82      0.78       859\n",
      "\n",
      "    accuracy                           0.77      1739\n",
      "   macro avg       0.78      0.78      0.77      1739\n",
      "weighted avg       0.78      0.77      0.77      1739\n",
      "\n",
      "0.7745830937320299\n"
     ]
    }
   ],
   "source": [
    "sgd = make_pipeline(StandardScaler(),SGDClassifier(max_iter=1000, tol=1e-3))\n",
    "sgd.fit(X_train, y_train)\n",
    "predictions_sgd = sgd.predict(X_test)\n",
    "print(confusion_matrix(y_test, predictions_sgd))\n",
    "print(classification_report(y_test, predictions_sgd))\n",
    "print(sgd.score(X_test, y_test))"
   ]
  },
  {
   "cell_type": "markdown",
   "id": "b63d1921",
   "metadata": {
    "execution": {
     "iopub.execute_input": "2022-04-16T02:20:31.727692Z",
     "iopub.status.busy": "2022-04-16T02:20:31.727342Z",
     "iopub.status.idle": "2022-04-16T02:20:33.706575Z",
     "shell.execute_reply": "2022-04-16T02:20:33.705753Z",
     "shell.execute_reply.started": "2022-04-16T02:20:31.727647Z"
    },
    "papermill": {
     "duration": 0.08853,
     "end_time": "2022-04-16T02:44:20.681930",
     "exception": false,
     "start_time": "2022-04-16T02:44:20.593400",
     "status": "completed"
    },
    "tags": []
   },
   "source": [
    "### Neural Network"
   ]
  },
  {
   "cell_type": "code",
   "execution_count": 43,
   "id": "cfa48437",
   "metadata": {
    "execution": {
     "iopub.execute_input": "2022-04-16T02:44:20.868325Z",
     "iopub.status.busy": "2022-04-16T02:44:20.867580Z",
     "iopub.status.idle": "2022-04-16T02:44:21.016944Z",
     "shell.execute_reply": "2022-04-16T02:44:21.017480Z",
     "shell.execute_reply.started": "2022-04-16T02:20:33.707963Z"
    },
    "papermill": {
     "duration": 0.247149,
     "end_time": "2022-04-16T02:44:21.017656",
     "exception": false,
     "start_time": "2022-04-16T02:44:20.770507",
     "status": "completed"
    },
    "tags": []
   },
   "outputs": [
    {
     "name": "stdout",
     "output_type": "stream",
     "text": [
      "Model: \"sequential\"\n",
      "_________________________________________________________________\n",
      "Layer (type)                 Output Shape              Param #   \n",
      "=================================================================\n",
      "dense (Dense)                (None, 128)               3584      \n",
      "_________________________________________________________________\n",
      "dense_1 (Dense)              (None, 64)                8256      \n",
      "_________________________________________________________________\n",
      "dropout (Dropout)            (None, 64)                0         \n",
      "_________________________________________________________________\n",
      "dense_2 (Dense)              (None, 32)                2080      \n",
      "_________________________________________________________________\n",
      "dropout_1 (Dropout)          (None, 32)                0         \n",
      "_________________________________________________________________\n",
      "dense_3 (Dense)              (None, 16)                528       \n",
      "_________________________________________________________________\n",
      "dropout_2 (Dropout)          (None, 16)                0         \n",
      "_________________________________________________________________\n",
      "dense_4 (Dense)              (None, 1)                 17        \n",
      "=================================================================\n",
      "Total params: 14,465\n",
      "Trainable params: 14,465\n",
      "Non-trainable params: 0\n",
      "_________________________________________________________________\n"
     ]
    },
    {
     "name": "stderr",
     "output_type": "stream",
     "text": [
      "2022-04-16 02:44:20.901313: I tensorflow/core/common_runtime/process_util.cc:146] Creating new thread pool with default inter op setting: 2. Tune using inter_op_parallelism_threads for best performance.\n"
     ]
    }
   ],
   "source": [
    "model = Sequential()\n",
    "model.add(Dense(128, activation=\"relu\", input_shape = (X_train.shape[1],))) # Hidden Layer 1 that receives the Input from the Input Layer\n",
    "\n",
    "model.add(Dense(64, activation=\"relu\")) # Hidden Layer 2\n",
    "model.add(Dropout(0.2))\n",
    "\n",
    "model.add(Dense(32, activation=\"relu\")) # Hidden Layer 3\n",
    "model.add(Dropout(0.2))\n",
    "\n",
    "model.add(Dense(16, activation=\"relu\")) # Hidden Layer 4\n",
    "model.add(Dropout(0.2))\n",
    "\n",
    "\n",
    "model.add(Dense(1, activation=\"sigmoid\")) # Outout Layer\n",
    "\n",
    "model.summary()"
   ]
  },
  {
   "cell_type": "code",
   "execution_count": 44,
   "id": "22b305c0",
   "metadata": {
    "execution": {
     "iopub.execute_input": "2022-04-16T02:44:21.200606Z",
     "iopub.status.busy": "2022-04-16T02:44:21.199596Z",
     "iopub.status.idle": "2022-04-16T02:44:33.448952Z",
     "shell.execute_reply": "2022-04-16T02:44:33.449470Z",
     "shell.execute_reply.started": "2022-04-16T02:20:33.801247Z"
    },
    "papermill": {
     "duration": 12.342202,
     "end_time": "2022-04-16T02:44:33.449667",
     "exception": false,
     "start_time": "2022-04-16T02:44:21.107465",
     "status": "completed"
    },
    "tags": []
   },
   "outputs": [
    {
     "name": "stderr",
     "output_type": "stream",
     "text": [
      "2022-04-16 02:44:21.492989: I tensorflow/compiler/mlir/mlir_graph_optimization_pass.cc:185] None of the MLIR Optimization Passes are enabled (registered 2)\n"
     ]
    },
    {
     "name": "stdout",
     "output_type": "stream",
     "text": [
      "Epoch 1/200\n",
      "109/109 [==============================] - 2s 6ms/step - loss: 10.4003 - accuracy: 0.5742 - val_loss: 0.6911 - val_accuracy: 0.5681\n",
      "Epoch 2/200\n",
      "109/109 [==============================] - 0s 4ms/step - loss: 1.3330 - accuracy: 0.5605 - val_loss: 0.6631 - val_accuracy: 0.5693\n",
      "Epoch 3/200\n",
      "109/109 [==============================] - 0s 4ms/step - loss: 0.9580 - accuracy: 0.5890 - val_loss: 0.6605 - val_accuracy: 0.5779\n",
      "Epoch 4/200\n",
      "109/109 [==============================] - 0s 4ms/step - loss: 0.8885 - accuracy: 0.5968 - val_loss: 0.6614 - val_accuracy: 0.5676\n",
      "Epoch 5/200\n",
      "109/109 [==============================] - 0s 4ms/step - loss: 0.7872 - accuracy: 0.6245 - val_loss: 0.6102 - val_accuracy: 0.7090\n",
      "Epoch 6/200\n",
      "109/109 [==============================] - 0s 4ms/step - loss: 0.7100 - accuracy: 0.6691 - val_loss: 0.6183 - val_accuracy: 0.7332\n",
      "Epoch 7/200\n",
      "109/109 [==============================] - 0s 4ms/step - loss: 0.7174 - accuracy: 0.6851 - val_loss: 0.6407 - val_accuracy: 0.6429\n",
      "Epoch 8/200\n",
      "109/109 [==============================] - 0s 4ms/step - loss: 0.6633 - accuracy: 0.6762 - val_loss: 0.6164 - val_accuracy: 0.7044\n",
      "Epoch 9/200\n",
      "109/109 [==============================] - 0s 4ms/step - loss: 0.6418 - accuracy: 0.7018 - val_loss: 0.5601 - val_accuracy: 0.7286\n",
      "Epoch 10/200\n",
      "109/109 [==============================] - 0s 4ms/step - loss: 0.6433 - accuracy: 0.6720 - val_loss: 0.5575 - val_accuracy: 0.7286\n",
      "Epoch 11/200\n",
      "109/109 [==============================] - 0s 4ms/step - loss: 0.6050 - accuracy: 0.7051 - val_loss: 0.5846 - val_accuracy: 0.6860\n",
      "Epoch 12/200\n",
      "109/109 [==============================] - 0s 4ms/step - loss: 0.6534 - accuracy: 0.6861 - val_loss: 0.5449 - val_accuracy: 0.7435\n",
      "Epoch 13/200\n",
      "109/109 [==============================] - 0s 4ms/step - loss: 0.6107 - accuracy: 0.6984 - val_loss: 0.5409 - val_accuracy: 0.7614\n",
      "Epoch 14/200\n",
      "109/109 [==============================] - 0s 4ms/step - loss: 0.6188 - accuracy: 0.7053 - val_loss: 0.5504 - val_accuracy: 0.7499\n",
      "Epoch 15/200\n",
      "109/109 [==============================] - 0s 4ms/step - loss: 0.5886 - accuracy: 0.7085 - val_loss: 0.5611 - val_accuracy: 0.7763\n",
      "Epoch 16/200\n",
      "109/109 [==============================] - 0s 4ms/step - loss: 0.5857 - accuracy: 0.7305 - val_loss: 0.5351 - val_accuracy: 0.7660\n",
      "Epoch 17/200\n",
      "109/109 [==============================] - 0s 4ms/step - loss: 0.5844 - accuracy: 0.7413 - val_loss: 0.5559 - val_accuracy: 0.7384\n",
      "Epoch 18/200\n",
      "109/109 [==============================] - 0s 4ms/step - loss: 0.5590 - accuracy: 0.7436 - val_loss: 0.5526 - val_accuracy: 0.7591\n",
      "Epoch 19/200\n",
      "109/109 [==============================] - 0s 4ms/step - loss: 0.5940 - accuracy: 0.7253 - val_loss: 0.5434 - val_accuracy: 0.7677\n",
      "Epoch 20/200\n",
      "109/109 [==============================] - 0s 4ms/step - loss: 0.5768 - accuracy: 0.7216 - val_loss: 0.6296 - val_accuracy: 0.6377\n",
      "Epoch 21/200\n",
      "109/109 [==============================] - 0s 3ms/step - loss: 0.5735 - accuracy: 0.7386 - val_loss: 0.5456 - val_accuracy: 0.7539\n",
      "Epoch 22/200\n",
      "109/109 [==============================] - 0s 4ms/step - loss: 0.5540 - accuracy: 0.7491 - val_loss: 0.5399 - val_accuracy: 0.7677\n",
      "Epoch 23/200\n",
      "109/109 [==============================] - 0s 4ms/step - loss: 0.5476 - accuracy: 0.7597 - val_loss: 0.5804 - val_accuracy: 0.7792\n",
      "Epoch 24/200\n",
      "109/109 [==============================] - 0s 4ms/step - loss: 0.5486 - accuracy: 0.7483 - val_loss: 0.5517 - val_accuracy: 0.7441\n",
      "Epoch 25/200\n",
      "109/109 [==============================] - 0s 4ms/step - loss: 0.5572 - accuracy: 0.7551 - val_loss: 0.5474 - val_accuracy: 0.7562\n",
      "Epoch 26/200\n",
      "109/109 [==============================] - 0s 4ms/step - loss: 0.5461 - accuracy: 0.7639 - val_loss: 0.5424 - val_accuracy: 0.7614\n"
     ]
    },
    {
     "data": {
      "text/plain": [
       "<keras.callbacks.History at 0x7f6792a37410>"
      ]
     },
     "execution_count": 44,
     "metadata": {},
     "output_type": "execute_result"
    }
   ],
   "source": [
    "model.compile(optimizer='adam', loss = \"binary_crossentropy\", metrics = ['accuracy'])\n",
    "early_stop = EarlyStopping(monitor='val_loss', mode='min', patience=10,restore_best_weights=True)\n",
    "model.fit(X_train, y_train, batch_size = 64, epochs = 200, callbacks=[early_stop], validation_data=(X_test, y_test))"
   ]
  },
  {
   "cell_type": "code",
   "execution_count": 45,
   "id": "d96ca25a",
   "metadata": {
    "execution": {
     "iopub.execute_input": "2022-04-16T02:44:33.793448Z",
     "iopub.status.busy": "2022-04-16T02:44:33.792786Z",
     "iopub.status.idle": "2022-04-16T02:44:33.968347Z",
     "shell.execute_reply": "2022-04-16T02:44:33.967660Z",
     "shell.execute_reply.started": "2022-04-16T02:21:03.845863Z"
    },
    "papermill": {
     "duration": 0.349088,
     "end_time": "2022-04-16T02:44:33.968517",
     "exception": false,
     "start_time": "2022-04-16T02:44:33.619429",
     "status": "completed"
    },
    "tags": []
   },
   "outputs": [
    {
     "name": "stdout",
     "output_type": "stream",
     "text": [
      "55/55 [==============================] - 0s 2ms/step - loss: 0.5351 - accuracy: 0.7660\n",
      "Loss: 0.535\n",
      "Accuracy: 0.766\n"
     ]
    }
   ],
   "source": [
    "validation_loss, validation_accuracy = model.evaluate(X_test, y_test, batch_size=32)\n",
    "print(\"Loss: \"+ str(np.round(validation_loss, 3)))\n",
    "print(\"Accuracy: \"+ str(np.round(validation_accuracy, 3)))"
   ]
  },
  {
   "cell_type": "code",
   "execution_count": 46,
   "id": "bf802f96",
   "metadata": {
    "execution": {
     "iopub.execute_input": "2022-04-16T02:44:34.321566Z",
     "iopub.status.busy": "2022-04-16T02:44:34.320825Z",
     "iopub.status.idle": "2022-04-16T02:44:35.410480Z",
     "shell.execute_reply": "2022-04-16T02:44:35.408577Z",
     "shell.execute_reply.started": "2022-04-16T02:21:04.042872Z"
    },
    "papermill": {
     "duration": 1.265931,
     "end_time": "2022-04-16T02:44:35.411061",
     "exception": false,
     "start_time": "2022-04-16T02:44:34.145130",
     "status": "completed"
    },
    "tags": []
   },
   "outputs": [
    {
     "name": "stdout",
     "output_type": "stream",
     "text": [
      "----------------------------  -----------------\n",
      "Model                         Accuracy %\n",
      "Logistic Regression           79.87349051178838\n",
      "KNN-Classifier                77.97584818861415\n",
      "Decision Tree                 73.20299022426681\n",
      "Random Forest                 80.56354226566992\n",
      "Naive Bayese                  71.82288671650375\n",
      "Support Vector Classifier     81.25359401955147\n",
      "Stochastics Gradient Descent  77.458309373203\n",
      "Neural Network                76.59574747085571\n",
      "----------------------------  -----------------\n"
     ]
    }
   ],
   "source": [
    "#Compare all models\n",
    "from tabulate import tabulate\n",
    "table = [['Model', 'Accuracy %'], ['Logistic Regression', logmodel.score(X_test, y_test) * 100], ['KNN-Classifier',KN_calssifier.score(X_test, y_test) *100], ['Decision Tree',dtree.score(X_test, y_test)*100], ['Random Forest',rfc.score(X_test, y_test)*100], ['Naive Bayese',NB.score(X_test, y_test)*100], ['Support Vector Classifier',svc.score(X_test, y_test)*100], ['Stochastics Gradient Descent',sgd.score(X_test, y_test)*100], ['Neural Network',validation_accuracy*100]]\n",
    "print(tabulate(table))"
   ]
  },
  {
   "cell_type": "markdown",
   "id": "1dd3c327",
   "metadata": {
    "papermill": {
     "duration": 0.184593,
     "end_time": "2022-04-16T02:44:35.855305",
     "exception": false,
     "start_time": "2022-04-16T02:44:35.670712",
     "status": "completed"
    },
    "tags": []
   },
   "source": [
    "#### We notice that the maximum accuracy come with SVC algortihm = 81% so we will go with it"
   ]
  },
  {
   "cell_type": "markdown",
   "id": "7a18d86b",
   "metadata": {
    "papermill": {
     "duration": 0.229352,
     "end_time": "2022-04-16T02:44:36.269318",
     "exception": false,
     "start_time": "2022-04-16T02:44:36.039966",
     "status": "completed"
    },
    "tags": []
   },
   "source": [
    "## Predicting Test Data"
   ]
  },
  {
   "cell_type": "code",
   "execution_count": 47,
   "id": "dd316fdc",
   "metadata": {
    "execution": {
     "iopub.execute_input": "2022-04-16T02:44:36.711599Z",
     "iopub.status.busy": "2022-04-16T02:44:36.710251Z",
     "iopub.status.idle": "2022-04-16T02:44:37.868256Z",
     "shell.execute_reply": "2022-04-16T02:44:37.867711Z",
     "shell.execute_reply.started": "2022-04-16T02:36:27.070914Z"
    },
    "papermill": {
     "duration": 1.368448,
     "end_time": "2022-04-16T02:44:37.868428",
     "exception": false,
     "start_time": "2022-04-16T02:44:36.499980",
     "status": "completed"
    },
    "tags": []
   },
   "outputs": [],
   "source": [
    "#Predicting Test data\n",
    "Transort_predicted = svc.predict(df_test)"
   ]
  },
  {
   "cell_type": "code",
   "execution_count": 48,
   "id": "53ae7774",
   "metadata": {
    "execution": {
     "iopub.execute_input": "2022-04-16T02:44:38.211774Z",
     "iopub.status.busy": "2022-04-16T02:44:38.210758Z",
     "iopub.status.idle": "2022-04-16T02:44:38.214561Z",
     "shell.execute_reply": "2022-04-16T02:44:38.215003Z",
     "shell.execute_reply.started": "2022-04-16T02:21:48.605420Z"
    },
    "papermill": {
     "duration": 0.177686,
     "end_time": "2022-04-16T02:44:38.215172",
     "exception": false,
     "start_time": "2022-04-16T02:44:38.037486",
     "status": "completed"
    },
    "tags": []
   },
   "outputs": [],
   "source": [
    "#Converting test id series into DataFrame\n",
    "submission = df_test_id.to_frame()"
   ]
  },
  {
   "cell_type": "code",
   "execution_count": 49,
   "id": "c5da7964",
   "metadata": {
    "execution": {
     "iopub.execute_input": "2022-04-16T02:44:38.555274Z",
     "iopub.status.busy": "2022-04-16T02:44:38.554238Z",
     "iopub.status.idle": "2022-04-16T02:44:38.558992Z",
     "shell.execute_reply": "2022-04-16T02:44:38.559462Z",
     "shell.execute_reply.started": "2022-04-16T02:38:21.879021Z"
    },
    "papermill": {
     "duration": 0.176433,
     "end_time": "2022-04-16T02:44:38.559642",
     "exception": false,
     "start_time": "2022-04-16T02:44:38.383209",
     "status": "completed"
    },
    "tags": []
   },
   "outputs": [],
   "source": [
    "#Convert Int (1,0) into bool (True, False)\n",
    "Transort_predicted = [bool(x) for x in Transort_predicted]"
   ]
  },
  {
   "cell_type": "code",
   "execution_count": 50,
   "id": "10dbc41b",
   "metadata": {
    "execution": {
     "iopub.execute_input": "2022-04-16T02:44:38.903911Z",
     "iopub.status.busy": "2022-04-16T02:44:38.902892Z",
     "iopub.status.idle": "2022-04-16T02:44:38.908150Z",
     "shell.execute_reply": "2022-04-16T02:44:38.908643Z",
     "shell.execute_reply.started": "2022-04-16T02:38:23.309927Z"
    },
    "papermill": {
     "duration": 0.178995,
     "end_time": "2022-04-16T02:44:38.908824",
     "exception": false,
     "start_time": "2022-04-16T02:44:38.729829",
     "status": "completed"
    },
    "tags": []
   },
   "outputs": [],
   "source": [
    "submission['Transported'] = Transort_predicted"
   ]
  },
  {
   "cell_type": "code",
   "execution_count": 51,
   "id": "1b76fb1e",
   "metadata": {
    "execution": {
     "iopub.execute_input": "2022-04-16T02:44:39.254414Z",
     "iopub.status.busy": "2022-04-16T02:44:39.253371Z",
     "iopub.status.idle": "2022-04-16T02:44:39.261195Z",
     "shell.execute_reply": "2022-04-16T02:44:39.261703Z",
     "shell.execute_reply.started": "2022-04-16T02:38:35.178738Z"
    },
    "papermill": {
     "duration": 0.183151,
     "end_time": "2022-04-16T02:44:39.261874",
     "exception": false,
     "start_time": "2022-04-16T02:44:39.078723",
     "status": "completed"
    },
    "tags": []
   },
   "outputs": [
    {
     "data": {
      "text/html": [
       "<div>\n",
       "<style scoped>\n",
       "    .dataframe tbody tr th:only-of-type {\n",
       "        vertical-align: middle;\n",
       "    }\n",
       "\n",
       "    .dataframe tbody tr th {\n",
       "        vertical-align: top;\n",
       "    }\n",
       "\n",
       "    .dataframe thead th {\n",
       "        text-align: right;\n",
       "    }\n",
       "</style>\n",
       "<table border=\"1\" class=\"dataframe\">\n",
       "  <thead>\n",
       "    <tr style=\"text-align: right;\">\n",
       "      <th></th>\n",
       "      <th>Transported</th>\n",
       "    </tr>\n",
       "    <tr>\n",
       "      <th>PassengerId</th>\n",
       "      <th></th>\n",
       "    </tr>\n",
       "  </thead>\n",
       "  <tbody>\n",
       "    <tr>\n",
       "      <th>0013_01</th>\n",
       "      <td>True</td>\n",
       "    </tr>\n",
       "    <tr>\n",
       "      <th>0018_01</th>\n",
       "      <td>False</td>\n",
       "    </tr>\n",
       "    <tr>\n",
       "      <th>0019_01</th>\n",
       "      <td>True</td>\n",
       "    </tr>\n",
       "    <tr>\n",
       "      <th>0021_01</th>\n",
       "      <td>True</td>\n",
       "    </tr>\n",
       "    <tr>\n",
       "      <th>0023_01</th>\n",
       "      <td>False</td>\n",
       "    </tr>\n",
       "    <tr>\n",
       "      <th>...</th>\n",
       "      <td>...</td>\n",
       "    </tr>\n",
       "    <tr>\n",
       "      <th>9266_02</th>\n",
       "      <td>True</td>\n",
       "    </tr>\n",
       "    <tr>\n",
       "      <th>9269_01</th>\n",
       "      <td>False</td>\n",
       "    </tr>\n",
       "    <tr>\n",
       "      <th>9271_01</th>\n",
       "      <td>True</td>\n",
       "    </tr>\n",
       "    <tr>\n",
       "      <th>9273_01</th>\n",
       "      <td>True</td>\n",
       "    </tr>\n",
       "    <tr>\n",
       "      <th>9277_01</th>\n",
       "      <td>True</td>\n",
       "    </tr>\n",
       "  </tbody>\n",
       "</table>\n",
       "<p>4277 rows × 1 columns</p>\n",
       "</div>"
      ],
      "text/plain": [
       "             Transported\n",
       "PassengerId             \n",
       "0013_01             True\n",
       "0018_01            False\n",
       "0019_01             True\n",
       "0021_01             True\n",
       "0023_01            False\n",
       "...                  ...\n",
       "9266_02             True\n",
       "9269_01            False\n",
       "9271_01             True\n",
       "9273_01             True\n",
       "9277_01             True\n",
       "\n",
       "[4277 rows x 1 columns]"
      ]
     },
     "execution_count": 51,
     "metadata": {},
     "output_type": "execute_result"
    }
   ],
   "source": [
    "submission.set_index('PassengerId')"
   ]
  },
  {
   "cell_type": "code",
   "execution_count": 52,
   "id": "e58bb6cf",
   "metadata": {
    "execution": {
     "iopub.execute_input": "2022-04-16T02:44:39.605965Z",
     "iopub.status.busy": "2022-04-16T02:44:39.604969Z",
     "iopub.status.idle": "2022-04-16T02:44:39.620199Z",
     "shell.execute_reply": "2022-04-16T02:44:39.620711Z",
     "shell.execute_reply.started": "2022-04-16T02:41:11.417967Z"
    },
    "papermill": {
     "duration": 0.19064,
     "end_time": "2022-04-16T02:44:39.620897",
     "exception": false,
     "start_time": "2022-04-16T02:44:39.430257",
     "status": "completed"
    },
    "tags": []
   },
   "outputs": [],
   "source": [
    "#Exporting file as .csv\n",
    "submission.to_csv('Submission', index = False)"
   ]
  },
  {
   "cell_type": "markdown",
   "id": "d74eae23",
   "metadata": {
    "papermill": {
     "duration": 0.171699,
     "end_time": "2022-04-16T02:44:39.964911",
     "exception": false,
     "start_time": "2022-04-16T02:44:39.793212",
     "status": "completed"
    },
    "tags": []
   },
   "source": [
    "## Thanks"
   ]
  }
 ],
 "metadata": {
  "kernelspec": {
   "display_name": "Python 3",
   "language": "python",
   "name": "python3"
  },
  "language_info": {
   "codemirror_mode": {
    "name": "ipython",
    "version": 3
   },
   "file_extension": ".py",
   "mimetype": "text/x-python",
   "name": "python",
   "nbconvert_exporter": "python",
   "pygments_lexer": "ipython3",
   "version": "3.7.12"
  },
  "papermill": {
   "default_parameters": {},
   "duration": 93.808775,
   "end_time": "2022-04-16T02:44:42.820395",
   "environment_variables": {},
   "exception": null,
   "input_path": "__notebook__.ipynb",
   "output_path": "__notebook__.ipynb",
   "parameters": {},
   "start_time": "2022-04-16T02:43:09.011620",
   "version": "2.3.3"
  }
 },
 "nbformat": 4,
 "nbformat_minor": 5
}
